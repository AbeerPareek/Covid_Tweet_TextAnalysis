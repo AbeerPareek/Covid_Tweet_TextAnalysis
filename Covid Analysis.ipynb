{
 "cells": [
  {
   "cell_type": "code",
   "execution_count": 165,
   "id": "76c6c1d8",
   "metadata": {},
   "outputs": [],
   "source": [
    "import pandas as pd\n",
    "import numpy as np\n",
    "\n",
    "import seaborn as sns\n",
    "import matplotlib.pyplot as plt\n",
    "\n",
    "#for text pre-processing\n",
    "import re, string\n",
    "import nltk\n",
    "\n",
    "from textblob import TextBlob\n",
    "from collections import Counter\n",
    "\n",
    "#from nltk.tokenize import WordPunctTokenizer()\n",
    "from nltk.corpus import stopwords\n",
    "from nltk.tokenize import word_tokenize\n",
    "from nltk.corpus import wordnet\n",
    "from nltk.stem import WordNetLemmatizer\n",
    "\n",
    "#for model-building\n",
    "from sklearn.model_selection import train_test_split\n",
    "from sklearn.linear_model import LogisticRegression\n",
    "from sklearn.naive_bayes import MultinomialNB\n",
    "from sklearn.metrics import classification_report, f1_score, accuracy_score, confusion_matrix\n",
    "from sklearn.metrics import roc_curve, auc, roc_auc_score\n",
    "\n",
    "# bag of words\n",
    "from sklearn.feature_extraction.text import TfidfVectorizer\n",
    "from sklearn.feature_extraction.text import CountVectorizer\n"
   ]
  },
  {
   "cell_type": "markdown",
   "id": "120df945",
   "metadata": {},
   "source": [
    "# 1B- Sentimental Analysis"
   ]
  },
  {
   "cell_type": "markdown",
   "id": "cc551833",
   "metadata": {},
   "source": [
    "A Sentiment Analysis on Headlines"
   ]
  },
  {
   "cell_type": "code",
   "execution_count": 166,
   "id": "8f4e6f67",
   "metadata": {},
   "outputs": [],
   "source": [
    "col_list = [\"text\"]\n",
    "review = pd.read_csv(\"D:/study/tutorialPoint/Covid 19 text analysis/omicron.csv\", usecols=col_list)"
   ]
  },
  {
   "cell_type": "code",
   "execution_count": 167,
   "id": "e97e4251",
   "metadata": {},
   "outputs": [],
   "source": [
    "review= review"
   ]
  },
  {
   "cell_type": "code",
   "execution_count": 168,
   "id": "3d3f498a",
   "metadata": {},
   "outputs": [
    {
     "data": {
      "text/html": [
       "<div>\n",
       "<style scoped>\n",
       "    .dataframe tbody tr th:only-of-type {\n",
       "        vertical-align: middle;\n",
       "    }\n",
       "\n",
       "    .dataframe tbody tr th {\n",
       "        vertical-align: top;\n",
       "    }\n",
       "\n",
       "    .dataframe thead th {\n",
       "        text-align: right;\n",
       "    }\n",
       "</style>\n",
       "<table border=\"1\" class=\"dataframe\">\n",
       "  <thead>\n",
       "    <tr style=\"text-align: right;\">\n",
       "      <th></th>\n",
       "      <th>text</th>\n",
       "    </tr>\n",
       "  </thead>\n",
       "  <tbody>\n",
       "    <tr>\n",
       "      <th>0</th>\n",
       "      <td>Daily US Confirmed Covid Cases by County For M...</td>\n",
       "    </tr>\n",
       "    <tr>\n",
       "      <th>1</th>\n",
       "      <td>@Yascha_Mounk #CDC says number of fully #vacci...</td>\n",
       "    </tr>\n",
       "    <tr>\n",
       "      <th>2</th>\n",
       "      <td>Daily US Confirmed Covid Cases by County For L...</td>\n",
       "    </tr>\n",
       "    <tr>\n",
       "      <th>3</th>\n",
       "      <td>Daily US Confirmed Covid Cases by County For L...</td>\n",
       "    </tr>\n",
       "    <tr>\n",
       "      <th>4</th>\n",
       "      <td>With the #Beijing2022 #WinterOlympics already ...</td>\n",
       "    </tr>\n",
       "    <tr>\n",
       "      <th>...</th>\n",
       "      <td>...</td>\n",
       "    </tr>\n",
       "    <tr>\n",
       "      <th>17041</th>\n",
       "      <td>As more of us head back into office environmen...</td>\n",
       "    </tr>\n",
       "    <tr>\n",
       "      <th>17042</th>\n",
       "      <td>After long time it’s such a great feeling to w...</td>\n",
       "    </tr>\n",
       "    <tr>\n",
       "      <th>17043</th>\n",
       "      <td>#NewZealand #LongCovidKids #Masks #ventilation...</td>\n",
       "    </tr>\n",
       "    <tr>\n",
       "      <th>17044</th>\n",
       "      <td>Can a patient be co-infected with different #v...</td>\n",
       "    </tr>\n",
       "    <tr>\n",
       "      <th>17045</th>\n",
       "      <td>.At #DCYELLOWCAB pay via electronic payments #...</td>\n",
       "    </tr>\n",
       "  </tbody>\n",
       "</table>\n",
       "<p>17046 rows × 1 columns</p>\n",
       "</div>"
      ],
      "text/plain": [
       "                                                    text\n",
       "0      Daily US Confirmed Covid Cases by County For M...\n",
       "1      @Yascha_Mounk #CDC says number of fully #vacci...\n",
       "2      Daily US Confirmed Covid Cases by County For L...\n",
       "3      Daily US Confirmed Covid Cases by County For L...\n",
       "4      With the #Beijing2022 #WinterOlympics already ...\n",
       "...                                                  ...\n",
       "17041  As more of us head back into office environmen...\n",
       "17042  After long time it’s such a great feeling to w...\n",
       "17043  #NewZealand #LongCovidKids #Masks #ventilation...\n",
       "17044  Can a patient be co-infected with different #v...\n",
       "17045  .At #DCYELLOWCAB pay via electronic payments #...\n",
       "\n",
       "[17046 rows x 1 columns]"
      ]
     },
     "execution_count": 168,
     "metadata": {},
     "output_type": "execute_result"
    }
   ],
   "source": [
    "review"
   ]
  },
  {
   "cell_type": "code",
   "execution_count": 169,
   "id": "3307f677",
   "metadata": {},
   "outputs": [],
   "source": [
    "lemmatizer = WordNetLemmatizer()\n",
    "stop_words = stopwords.words('english')\n",
    "VERB_CODES = {'VB', 'VBD', 'VBG', 'VBN', 'VBP', 'VBZ'}"
   ]
  },
  {
   "cell_type": "code",
   "execution_count": 170,
   "id": "cf01f787",
   "metadata": {},
   "outputs": [
    {
     "data": {
      "text/plain": [
       "Sentiment(polarity=0.11308686786397787, subjectivity=0.4949662635754508)"
      ]
     },
     "execution_count": 170,
     "metadata": {},
     "output_type": "execute_result"
    }
   ],
   "source": [
    "#Sentiment analysis of complete data\n",
    "\n",
    "df1=review\n",
    "\n",
    "df1['text'] = df1['text'].astype(str)\n",
    "\n",
    "a='. '\n",
    "for i in range(0,len(df1)):\n",
    "    a=a+review['text'][i]\n",
    "blob = TextBlob(a)\n",
    "blob.sentiment "
   ]
  },
  {
   "cell_type": "markdown",
   "id": "f9f0d78f",
   "metadata": {},
   "source": [
    "Headline Pre-processing in a new column "
   ]
  },
  {
   "cell_type": "code",
   "execution_count": 171,
   "id": "a8bbbf2d",
   "metadata": {},
   "outputs": [],
   "source": [
    "def preprocess_sentences(text):\n",
    "    text = text.lower()\n",
    "    text=text.strip()  #get rid of leading/trailing whitespace \n",
    "      \n",
    "    temp_sent =[]\n",
    "    words = nltk.word_tokenize(text)\n",
    "    tags = nltk.pos_tag(words)\n",
    "    for i, word in enumerate(words):\n",
    "        if tags[i][1] in VERB_CODES:\n",
    "            lemmatized = lemmatizer.lemmatize(word, 'v')\n",
    "        else:\n",
    "            lemmatized = lemmatizer.lemmatize(word)\n",
    "        if lemmatized not in stop_words and lemmatized.isalpha()and len(lemmatized)>2:\n",
    "            temp_sent.append(lemmatized)\n",
    "\n",
    "    finalsent = ' '.join(temp_sent)\n",
    "    \n",
    "    return finalsent\n",
    "\n",
    "\n",
    "review[\"clean_text\"]= review[\"text\"].apply(preprocess_sentences)"
   ]
  },
  {
   "cell_type": "code",
   "execution_count": 172,
   "id": "bbc5015d",
   "metadata": {},
   "outputs": [
    {
     "data": {
      "text/html": [
       "<div>\n",
       "<style scoped>\n",
       "    .dataframe tbody tr th:only-of-type {\n",
       "        vertical-align: middle;\n",
       "    }\n",
       "\n",
       "    .dataframe tbody tr th {\n",
       "        vertical-align: top;\n",
       "    }\n",
       "\n",
       "    .dataframe thead th {\n",
       "        text-align: right;\n",
       "    }\n",
       "</style>\n",
       "<table border=\"1\" class=\"dataframe\">\n",
       "  <thead>\n",
       "    <tr style=\"text-align: right;\">\n",
       "      <th></th>\n",
       "      <th>text</th>\n",
       "      <th>clean_text</th>\n",
       "    </tr>\n",
       "  </thead>\n",
       "  <tbody>\n",
       "    <tr>\n",
       "      <th>0</th>\n",
       "      <td>Daily US Confirmed Covid Cases by County For M...</td>\n",
       "      <td>daily confirm covid case county covid insight ...</td>\n",
       "    </tr>\n",
       "    <tr>\n",
       "      <th>1</th>\n",
       "      <td>@Yascha_Mounk #CDC says number of fully #vacci...</td>\n",
       "      <td>cdc say number fully vaccinated omicron patien...</td>\n",
       "    </tr>\n",
       "    <tr>\n",
       "      <th>2</th>\n",
       "      <td>Daily US Confirmed Covid Cases by County For L...</td>\n",
       "      <td>daily confirm covid case county covid insight ...</td>\n",
       "    </tr>\n",
       "    <tr>\n",
       "      <th>3</th>\n",
       "      <td>Daily US Confirmed Covid Cases by County For L...</td>\n",
       "      <td>daily confirm covid case county covid insight ...</td>\n",
       "    </tr>\n",
       "    <tr>\n",
       "      <th>4</th>\n",
       "      <td>With the #Beijing2022 #WinterOlympics already ...</td>\n",
       "      <td>winterolympics already underway olympian look ...</td>\n",
       "    </tr>\n",
       "    <tr>\n",
       "      <th>...</th>\n",
       "      <td>...</td>\n",
       "      <td>...</td>\n",
       "    </tr>\n",
       "    <tr>\n",
       "      <th>17041</th>\n",
       "      <td>As more of us head back into office environmen...</td>\n",
       "      <td>head back office environment article call way ...</td>\n",
       "    </tr>\n",
       "    <tr>\n",
       "      <th>17042</th>\n",
       "      <td>After long time it’s such a great feeling to w...</td>\n",
       "      <td>long time great feeling watch live internation...</td>\n",
       "    </tr>\n",
       "    <tr>\n",
       "      <th>17043</th>\n",
       "      <td>#NewZealand #LongCovidKids #Masks #ventilation...</td>\n",
       "      <td>newzealand longcovidkids mask ventilation scho...</td>\n",
       "    </tr>\n",
       "    <tr>\n",
       "      <th>17044</th>\n",
       "      <td>Can a patient be co-infected with different #v...</td>\n",
       "      <td>patient different variant yes common possible ...</td>\n",
       "    </tr>\n",
       "    <tr>\n",
       "      <th>17045</th>\n",
       "      <td>.At #DCYELLOWCAB pay via electronic payments #...</td>\n",
       "      <td>dcyellowcab pay via electronic payment contact...</td>\n",
       "    </tr>\n",
       "  </tbody>\n",
       "</table>\n",
       "<p>17046 rows × 2 columns</p>\n",
       "</div>"
      ],
      "text/plain": [
       "                                                    text  \\\n",
       "0      Daily US Confirmed Covid Cases by County For M...   \n",
       "1      @Yascha_Mounk #CDC says number of fully #vacci...   \n",
       "2      Daily US Confirmed Covid Cases by County For L...   \n",
       "3      Daily US Confirmed Covid Cases by County For L...   \n",
       "4      With the #Beijing2022 #WinterOlympics already ...   \n",
       "...                                                  ...   \n",
       "17041  As more of us head back into office environmen...   \n",
       "17042  After long time it’s such a great feeling to w...   \n",
       "17043  #NewZealand #LongCovidKids #Masks #ventilation...   \n",
       "17044  Can a patient be co-infected with different #v...   \n",
       "17045  .At #DCYELLOWCAB pay via electronic payments #...   \n",
       "\n",
       "                                              clean_text  \n",
       "0      daily confirm covid case county covid insight ...  \n",
       "1      cdc say number fully vaccinated omicron patien...  \n",
       "2      daily confirm covid case county covid insight ...  \n",
       "3      daily confirm covid case county covid insight ...  \n",
       "4      winterolympics already underway olympian look ...  \n",
       "...                                                  ...  \n",
       "17041  head back office environment article call way ...  \n",
       "17042  long time great feeling watch live internation...  \n",
       "17043  newzealand longcovidkids mask ventilation scho...  \n",
       "17044  patient different variant yes common possible ...  \n",
       "17045  dcyellowcab pay via electronic payment contact...  \n",
       "\n",
       "[17046 rows x 2 columns]"
      ]
     },
     "execution_count": 172,
     "metadata": {},
     "output_type": "execute_result"
    }
   ],
   "source": [
    "review"
   ]
  },
  {
   "cell_type": "markdown",
   "id": "fa747b88",
   "metadata": {},
   "source": [
    "Individual Headline Polarity"
   ]
  },
  {
   "cell_type": "code",
   "execution_count": 173,
   "id": "03eb2ffa",
   "metadata": {},
   "outputs": [],
   "source": [
    "df = review #creating a dataset for further use so as to not create ab impact on orignal"
   ]
  },
  {
   "cell_type": "code",
   "execution_count": 174,
   "id": "a2692266",
   "metadata": {},
   "outputs": [
    {
     "data": {
      "text/html": [
       "<div>\n",
       "<style scoped>\n",
       "    .dataframe tbody tr th:only-of-type {\n",
       "        vertical-align: middle;\n",
       "    }\n",
       "\n",
       "    .dataframe tbody tr th {\n",
       "        vertical-align: top;\n",
       "    }\n",
       "\n",
       "    .dataframe thead th {\n",
       "        text-align: right;\n",
       "    }\n",
       "</style>\n",
       "<table border=\"1\" class=\"dataframe\">\n",
       "  <thead>\n",
       "    <tr style=\"text-align: right;\">\n",
       "      <th></th>\n",
       "      <th>text</th>\n",
       "      <th>clean_text</th>\n",
       "    </tr>\n",
       "  </thead>\n",
       "  <tbody>\n",
       "    <tr>\n",
       "      <th>0</th>\n",
       "      <td>Daily US Confirmed Covid Cases by County For M...</td>\n",
       "      <td>daily confirm covid case county covid insight ...</td>\n",
       "    </tr>\n",
       "    <tr>\n",
       "      <th>1</th>\n",
       "      <td>@Yascha_Mounk #CDC says number of fully #vacci...</td>\n",
       "      <td>cdc say number fully vaccinated omicron patien...</td>\n",
       "    </tr>\n",
       "    <tr>\n",
       "      <th>2</th>\n",
       "      <td>Daily US Confirmed Covid Cases by County For L...</td>\n",
       "      <td>daily confirm covid case county covid insight ...</td>\n",
       "    </tr>\n",
       "    <tr>\n",
       "      <th>3</th>\n",
       "      <td>Daily US Confirmed Covid Cases by County For L...</td>\n",
       "      <td>daily confirm covid case county covid insight ...</td>\n",
       "    </tr>\n",
       "    <tr>\n",
       "      <th>4</th>\n",
       "      <td>With the #Beijing2022 #WinterOlympics already ...</td>\n",
       "      <td>winterolympics already underway olympian look ...</td>\n",
       "    </tr>\n",
       "    <tr>\n",
       "      <th>...</th>\n",
       "      <td>...</td>\n",
       "      <td>...</td>\n",
       "    </tr>\n",
       "    <tr>\n",
       "      <th>17041</th>\n",
       "      <td>As more of us head back into office environmen...</td>\n",
       "      <td>head back office environment article call way ...</td>\n",
       "    </tr>\n",
       "    <tr>\n",
       "      <th>17042</th>\n",
       "      <td>After long time it’s such a great feeling to w...</td>\n",
       "      <td>long time great feeling watch live internation...</td>\n",
       "    </tr>\n",
       "    <tr>\n",
       "      <th>17043</th>\n",
       "      <td>#NewZealand #LongCovidKids #Masks #ventilation...</td>\n",
       "      <td>newzealand longcovidkids mask ventilation scho...</td>\n",
       "    </tr>\n",
       "    <tr>\n",
       "      <th>17044</th>\n",
       "      <td>Can a patient be co-infected with different #v...</td>\n",
       "      <td>patient different variant yes common possible ...</td>\n",
       "    </tr>\n",
       "    <tr>\n",
       "      <th>17045</th>\n",
       "      <td>.At #DCYELLOWCAB pay via electronic payments #...</td>\n",
       "      <td>dcyellowcab pay via electronic payment contact...</td>\n",
       "    </tr>\n",
       "  </tbody>\n",
       "</table>\n",
       "<p>17046 rows × 2 columns</p>\n",
       "</div>"
      ],
      "text/plain": [
       "                                                    text  \\\n",
       "0      Daily US Confirmed Covid Cases by County For M...   \n",
       "1      @Yascha_Mounk #CDC says number of fully #vacci...   \n",
       "2      Daily US Confirmed Covid Cases by County For L...   \n",
       "3      Daily US Confirmed Covid Cases by County For L...   \n",
       "4      With the #Beijing2022 #WinterOlympics already ...   \n",
       "...                                                  ...   \n",
       "17041  As more of us head back into office environmen...   \n",
       "17042  After long time it’s such a great feeling to w...   \n",
       "17043  #NewZealand #LongCovidKids #Masks #ventilation...   \n",
       "17044  Can a patient be co-infected with different #v...   \n",
       "17045  .At #DCYELLOWCAB pay via electronic payments #...   \n",
       "\n",
       "                                              clean_text  \n",
       "0      daily confirm covid case county covid insight ...  \n",
       "1      cdc say number fully vaccinated omicron patien...  \n",
       "2      daily confirm covid case county covid insight ...  \n",
       "3      daily confirm covid case county covid insight ...  \n",
       "4      winterolympics already underway olympian look ...  \n",
       "...                                                  ...  \n",
       "17041  head back office environment article call way ...  \n",
       "17042  long time great feeling watch live internation...  \n",
       "17043  newzealand longcovidkids mask ventilation scho...  \n",
       "17044  patient different variant yes common possible ...  \n",
       "17045  dcyellowcab pay via electronic payment contact...  \n",
       "\n",
       "[17046 rows x 2 columns]"
      ]
     },
     "execution_count": 174,
     "metadata": {},
     "output_type": "execute_result"
    }
   ],
   "source": [
    "df"
   ]
  },
  {
   "cell_type": "code",
   "execution_count": 175,
   "id": "8c215416",
   "metadata": {},
   "outputs": [],
   "source": [
    "df.pop(\"text\")\n",
    "df.rename(columns={\"clean_text\":\"review\"},inplace=True)"
   ]
  },
  {
   "cell_type": "code",
   "execution_count": 176,
   "id": "f6d36ddc",
   "metadata": {},
   "outputs": [
    {
     "data": {
      "text/html": [
       "<div>\n",
       "<style scoped>\n",
       "    .dataframe tbody tr th:only-of-type {\n",
       "        vertical-align: middle;\n",
       "    }\n",
       "\n",
       "    .dataframe tbody tr th {\n",
       "        vertical-align: top;\n",
       "    }\n",
       "\n",
       "    .dataframe thead th {\n",
       "        text-align: right;\n",
       "    }\n",
       "</style>\n",
       "<table border=\"1\" class=\"dataframe\">\n",
       "  <thead>\n",
       "    <tr style=\"text-align: right;\">\n",
       "      <th></th>\n",
       "      <th>review</th>\n",
       "    </tr>\n",
       "  </thead>\n",
       "  <tbody>\n",
       "    <tr>\n",
       "      <th>0</th>\n",
       "      <td>daily confirm covid case county covid insight ...</td>\n",
       "    </tr>\n",
       "    <tr>\n",
       "      <th>1</th>\n",
       "      <td>cdc say number fully vaccinated omicron patien...</td>\n",
       "    </tr>\n",
       "    <tr>\n",
       "      <th>2</th>\n",
       "      <td>daily confirm covid case county covid insight ...</td>\n",
       "    </tr>\n",
       "    <tr>\n",
       "      <th>3</th>\n",
       "      <td>daily confirm covid case county covid insight ...</td>\n",
       "    </tr>\n",
       "    <tr>\n",
       "      <th>4</th>\n",
       "      <td>winterolympics already underway olympian look ...</td>\n",
       "    </tr>\n",
       "    <tr>\n",
       "      <th>...</th>\n",
       "      <td>...</td>\n",
       "    </tr>\n",
       "    <tr>\n",
       "      <th>17041</th>\n",
       "      <td>head back office environment article call way ...</td>\n",
       "    </tr>\n",
       "    <tr>\n",
       "      <th>17042</th>\n",
       "      <td>long time great feeling watch live internation...</td>\n",
       "    </tr>\n",
       "    <tr>\n",
       "      <th>17043</th>\n",
       "      <td>newzealand longcovidkids mask ventilation scho...</td>\n",
       "    </tr>\n",
       "    <tr>\n",
       "      <th>17044</th>\n",
       "      <td>patient different variant yes common possible ...</td>\n",
       "    </tr>\n",
       "    <tr>\n",
       "      <th>17045</th>\n",
       "      <td>dcyellowcab pay via electronic payment contact...</td>\n",
       "    </tr>\n",
       "  </tbody>\n",
       "</table>\n",
       "<p>17046 rows × 1 columns</p>\n",
       "</div>"
      ],
      "text/plain": [
       "                                                  review\n",
       "0      daily confirm covid case county covid insight ...\n",
       "1      cdc say number fully vaccinated omicron patien...\n",
       "2      daily confirm covid case county covid insight ...\n",
       "3      daily confirm covid case county covid insight ...\n",
       "4      winterolympics already underway olympian look ...\n",
       "...                                                  ...\n",
       "17041  head back office environment article call way ...\n",
       "17042  long time great feeling watch live internation...\n",
       "17043  newzealand longcovidkids mask ventilation scho...\n",
       "17044  patient different variant yes common possible ...\n",
       "17045  dcyellowcab pay via electronic payment contact...\n",
       "\n",
       "[17046 rows x 1 columns]"
      ]
     },
     "execution_count": 176,
     "metadata": {},
     "output_type": "execute_result"
    }
   ],
   "source": [
    "df"
   ]
  },
  {
   "cell_type": "code",
   "execution_count": 177,
   "id": "bbfe0781",
   "metadata": {},
   "outputs": [],
   "source": [
    "from textblob import TextBlob\n",
    "df['polarity'] = df.apply(lambda x: TextBlob(x['review']).sentiment.polarity, axis=1)\n",
    "df['subjectivity'] = df.apply(lambda x: TextBlob(x['review']).sentiment.subjectivity, axis=1)"
   ]
  },
  {
   "cell_type": "code",
   "execution_count": 178,
   "id": "83f240c6",
   "metadata": {},
   "outputs": [
    {
     "data": {
      "text/html": [
       "<div>\n",
       "<style scoped>\n",
       "    .dataframe tbody tr th:only-of-type {\n",
       "        vertical-align: middle;\n",
       "    }\n",
       "\n",
       "    .dataframe tbody tr th {\n",
       "        vertical-align: top;\n",
       "    }\n",
       "\n",
       "    .dataframe thead th {\n",
       "        text-align: right;\n",
       "    }\n",
       "</style>\n",
       "<table border=\"1\" class=\"dataframe\">\n",
       "  <thead>\n",
       "    <tr style=\"text-align: right;\">\n",
       "      <th></th>\n",
       "      <th>review</th>\n",
       "      <th>polarity</th>\n",
       "      <th>subjectivity</th>\n",
       "    </tr>\n",
       "  </thead>\n",
       "  <tbody>\n",
       "    <tr>\n",
       "      <th>0</th>\n",
       "      <td>daily confirm covid case county covid insight ...</td>\n",
       "      <td>0.000000</td>\n",
       "      <td>0.000000</td>\n",
       "    </tr>\n",
       "    <tr>\n",
       "      <th>1</th>\n",
       "      <td>cdc say number fully vaccinated omicron patien...</td>\n",
       "      <td>0.000000</td>\n",
       "      <td>0.000000</td>\n",
       "    </tr>\n",
       "    <tr>\n",
       "      <th>2</th>\n",
       "      <td>daily confirm covid case county covid insight ...</td>\n",
       "      <td>0.000000</td>\n",
       "      <td>0.000000</td>\n",
       "    </tr>\n",
       "    <tr>\n",
       "      <th>3</th>\n",
       "      <td>daily confirm covid case county covid insight ...</td>\n",
       "      <td>0.000000</td>\n",
       "      <td>0.000000</td>\n",
       "    </tr>\n",
       "    <tr>\n",
       "      <th>4</th>\n",
       "      <td>winterolympics already underway olympian look ...</td>\n",
       "      <td>-0.200000</td>\n",
       "      <td>0.400000</td>\n",
       "    </tr>\n",
       "    <tr>\n",
       "      <th>5</th>\n",
       "      <td>doctor help discover omicron say pressure reve...</td>\n",
       "      <td>0.333333</td>\n",
       "      <td>0.500000</td>\n",
       "    </tr>\n",
       "    <tr>\n",
       "      <th>6</th>\n",
       "      <td>someone use term corona refer virus today hear...</td>\n",
       "      <td>-0.500000</td>\n",
       "      <td>1.000000</td>\n",
       "    </tr>\n",
       "    <tr>\n",
       "      <th>7</th>\n",
       "      <td>daily confirm covid case county covid insight ...</td>\n",
       "      <td>0.000000</td>\n",
       "      <td>0.000000</td>\n",
       "    </tr>\n",
       "    <tr>\n",
       "      <th>8</th>\n",
       "      <td>month tonga finally omicron people single vaxx...</td>\n",
       "      <td>-0.196429</td>\n",
       "      <td>0.517857</td>\n",
       "    </tr>\n",
       "    <tr>\n",
       "      <th>9</th>\n",
       "      <td>daily confirm covid case county covid insight ...</td>\n",
       "      <td>0.000000</td>\n",
       "      <td>0.000000</td>\n",
       "    </tr>\n",
       "    <tr>\n",
       "      <th>10</th>\n",
       "      <td>ellemagazine obstacle life make break either w...</td>\n",
       "      <td>0.000000</td>\n",
       "      <td>0.000000</td>\n",
       "    </tr>\n",
       "    <tr>\n",
       "      <th>11</th>\n",
       "      <td>covid pandemic continue ukraine case rapidly r...</td>\n",
       "      <td>0.187500</td>\n",
       "      <td>0.437500</td>\n",
       "    </tr>\n",
       "    <tr>\n",
       "      <th>12</th>\n",
       "      <td>covid europeanunion notification new case stil...</td>\n",
       "      <td>0.148182</td>\n",
       "      <td>0.497273</td>\n",
       "    </tr>\n",
       "    <tr>\n",
       "      <th>13</th>\n",
       "      <td>daily confirm covid case county covid insight ...</td>\n",
       "      <td>0.000000</td>\n",
       "      <td>0.000000</td>\n",
       "    </tr>\n",
       "    <tr>\n",
       "      <th>14</th>\n",
       "      <td>expert amp policymakers say need unwind test p...</td>\n",
       "      <td>0.000000</td>\n",
       "      <td>0.000000</td>\n",
       "    </tr>\n",
       "    <tr>\n",
       "      <th>15</th>\n",
       "      <td>daily confirm covid case county covid insight ...</td>\n",
       "      <td>0.000000</td>\n",
       "      <td>0.000000</td>\n",
       "    </tr>\n",
       "    <tr>\n",
       "      <th>16</th>\n",
       "      <td>daily confirm covid case county covid insight ...</td>\n",
       "      <td>0.000000</td>\n",
       "      <td>0.000000</td>\n",
       "    </tr>\n",
       "    <tr>\n",
       "      <th>17</th>\n",
       "      <td>omicron decline prompt rethink measure http vi...</td>\n",
       "      <td>0.000000</td>\n",
       "      <td>0.000000</td>\n",
       "    </tr>\n",
       "    <tr>\n",
       "      <th>18</th>\n",
       "      <td>daily confirm covid case county covid insight ...</td>\n",
       "      <td>0.000000</td>\n",
       "      <td>0.000000</td>\n",
       "    </tr>\n",
       "    <tr>\n",
       "      <th>19</th>\n",
       "      <td>latest customer feedback management daily http...</td>\n",
       "      <td>0.233333</td>\n",
       "      <td>0.366667</td>\n",
       "    </tr>\n",
       "  </tbody>\n",
       "</table>\n",
       "</div>"
      ],
      "text/plain": [
       "                                               review  polarity  subjectivity\n",
       "0   daily confirm covid case county covid insight ...  0.000000      0.000000\n",
       "1   cdc say number fully vaccinated omicron patien...  0.000000      0.000000\n",
       "2   daily confirm covid case county covid insight ...  0.000000      0.000000\n",
       "3   daily confirm covid case county covid insight ...  0.000000      0.000000\n",
       "4   winterolympics already underway olympian look ... -0.200000      0.400000\n",
       "5   doctor help discover omicron say pressure reve...  0.333333      0.500000\n",
       "6   someone use term corona refer virus today hear... -0.500000      1.000000\n",
       "7   daily confirm covid case county covid insight ...  0.000000      0.000000\n",
       "8   month tonga finally omicron people single vaxx... -0.196429      0.517857\n",
       "9   daily confirm covid case county covid insight ...  0.000000      0.000000\n",
       "10  ellemagazine obstacle life make break either w...  0.000000      0.000000\n",
       "11  covid pandemic continue ukraine case rapidly r...  0.187500      0.437500\n",
       "12  covid europeanunion notification new case stil...  0.148182      0.497273\n",
       "13  daily confirm covid case county covid insight ...  0.000000      0.000000\n",
       "14  expert amp policymakers say need unwind test p...  0.000000      0.000000\n",
       "15  daily confirm covid case county covid insight ...  0.000000      0.000000\n",
       "16  daily confirm covid case county covid insight ...  0.000000      0.000000\n",
       "17  omicron decline prompt rethink measure http vi...  0.000000      0.000000\n",
       "18  daily confirm covid case county covid insight ...  0.000000      0.000000\n",
       "19  latest customer feedback management daily http...  0.233333      0.366667"
      ]
     },
     "execution_count": 178,
     "metadata": {},
     "output_type": "execute_result"
    }
   ],
   "source": [
    "df.head(20)  #individual Headline polarity "
   ]
  },
  {
   "cell_type": "markdown",
   "id": "32ff7841",
   "metadata": {},
   "source": [
    "# # Positive Sentimental Analysis"
   ]
  },
  {
   "cell_type": "code",
   "execution_count": 179,
   "id": "d26ab671",
   "metadata": {},
   "outputs": [],
   "source": [
    "df_positive=df[df.polarity>0]"
   ]
  },
  {
   "cell_type": "code",
   "execution_count": 180,
   "id": "d638b382",
   "metadata": {},
   "outputs": [
    {
     "data": {
      "text/html": [
       "<div>\n",
       "<style scoped>\n",
       "    .dataframe tbody tr th:only-of-type {\n",
       "        vertical-align: middle;\n",
       "    }\n",
       "\n",
       "    .dataframe tbody tr th {\n",
       "        vertical-align: top;\n",
       "    }\n",
       "\n",
       "    .dataframe thead th {\n",
       "        text-align: right;\n",
       "    }\n",
       "</style>\n",
       "<table border=\"1\" class=\"dataframe\">\n",
       "  <thead>\n",
       "    <tr style=\"text-align: right;\">\n",
       "      <th></th>\n",
       "      <th>review</th>\n",
       "      <th>polarity</th>\n",
       "      <th>subjectivity</th>\n",
       "    </tr>\n",
       "  </thead>\n",
       "  <tbody>\n",
       "    <tr>\n",
       "      <th>5</th>\n",
       "      <td>doctor help discover omicron say pressure reve...</td>\n",
       "      <td>0.333333</td>\n",
       "      <td>0.500000</td>\n",
       "    </tr>\n",
       "    <tr>\n",
       "      <th>11</th>\n",
       "      <td>covid pandemic continue ukraine case rapidly r...</td>\n",
       "      <td>0.187500</td>\n",
       "      <td>0.437500</td>\n",
       "    </tr>\n",
       "    <tr>\n",
       "      <th>12</th>\n",
       "      <td>covid europeanunion notification new case stil...</td>\n",
       "      <td>0.148182</td>\n",
       "      <td>0.497273</td>\n",
       "    </tr>\n",
       "    <tr>\n",
       "      <th>19</th>\n",
       "      <td>latest customer feedback management daily http...</td>\n",
       "      <td>0.233333</td>\n",
       "      <td>0.366667</td>\n",
       "    </tr>\n",
       "    <tr>\n",
       "      <th>25</th>\n",
       "      <td>best way fight omicron variant getboosted visi...</td>\n",
       "      <td>1.000000</td>\n",
       "      <td>0.300000</td>\n",
       "    </tr>\n",
       "    <tr>\n",
       "      <th>...</th>\n",
       "      <td>...</td>\n",
       "      <td>...</td>\n",
       "      <td>...</td>\n",
       "    </tr>\n",
       "    <tr>\n",
       "      <th>17033</th>\n",
       "      <td>give straight promise always would see covid c...</td>\n",
       "      <td>0.200000</td>\n",
       "      <td>0.400000</td>\n",
       "    </tr>\n",
       "    <tr>\n",
       "      <th>17035</th>\n",
       "      <td>omicron subvariant new symptom world healt htt...</td>\n",
       "      <td>0.136364</td>\n",
       "      <td>0.454545</td>\n",
       "    </tr>\n",
       "    <tr>\n",
       "      <th>17036</th>\n",
       "      <td>excite siem reap hear first hand aussie busine...</td>\n",
       "      <td>0.250000</td>\n",
       "      <td>0.333333</td>\n",
       "    </tr>\n",
       "    <tr>\n",
       "      <th>17041</th>\n",
       "      <td>head back office environment article call way ...</td>\n",
       "      <td>0.183333</td>\n",
       "      <td>0.350000</td>\n",
       "    </tr>\n",
       "    <tr>\n",
       "      <th>17042</th>\n",
       "      <td>long time great feeling watch live internation...</td>\n",
       "      <td>0.140584</td>\n",
       "      <td>0.436905</td>\n",
       "    </tr>\n",
       "  </tbody>\n",
       "</table>\n",
       "<p>5356 rows × 3 columns</p>\n",
       "</div>"
      ],
      "text/plain": [
       "                                                  review  polarity  \\\n",
       "5      doctor help discover omicron say pressure reve...  0.333333   \n",
       "11     covid pandemic continue ukraine case rapidly r...  0.187500   \n",
       "12     covid europeanunion notification new case stil...  0.148182   \n",
       "19     latest customer feedback management daily http...  0.233333   \n",
       "25     best way fight omicron variant getboosted visi...  1.000000   \n",
       "...                                                  ...       ...   \n",
       "17033  give straight promise always would see covid c...  0.200000   \n",
       "17035  omicron subvariant new symptom world healt htt...  0.136364   \n",
       "17036  excite siem reap hear first hand aussie busine...  0.250000   \n",
       "17041  head back office environment article call way ...  0.183333   \n",
       "17042  long time great feeling watch live internation...  0.140584   \n",
       "\n",
       "       subjectivity  \n",
       "5          0.500000  \n",
       "11         0.437500  \n",
       "12         0.497273  \n",
       "19         0.366667  \n",
       "25         0.300000  \n",
       "...             ...  \n",
       "17033      0.400000  \n",
       "17035      0.454545  \n",
       "17036      0.333333  \n",
       "17041      0.350000  \n",
       "17042      0.436905  \n",
       "\n",
       "[5356 rows x 3 columns]"
      ]
     },
     "execution_count": 180,
     "metadata": {},
     "output_type": "execute_result"
    }
   ],
   "source": [
    "df_positive"
   ]
  },
  {
   "cell_type": "code",
   "execution_count": 181,
   "id": "4ed83b25",
   "metadata": {},
   "outputs": [
    {
     "name": "stdout",
     "output_type": "stream",
     "text": [
      "(3749, 3)\n",
      "(1607, 3)\n"
     ]
    }
   ],
   "source": [
    "X_ptrain, X_phold = train_test_split(df_positive, test_size=0.3, random_state=111)\n",
    "print(X_ptrain.shape)\n",
    "print(X_phold.shape)"
   ]
  },
  {
   "cell_type": "code",
   "execution_count": 182,
   "id": "3fc197df",
   "metadata": {},
   "outputs": [],
   "source": [
    "def tokenize(text):\n",
    "   tokens = [word for word in nltk.word_tokenize(text) if (len(word) > 3 and len(word.strip('Xx/')) > 2) ] ##lenght more than 3 and  dont take xxx symbols \n",
    "   \n",
    "   return tokens"
   ]
  },
  {
   "cell_type": "code",
   "execution_count": 183,
   "id": "968d4c4c",
   "metadata": {},
   "outputs": [],
   "source": [
    "vectorizer_tf = TfidfVectorizer(tokenizer=tokenize, max_df=0.6, min_df=50, max_features=10000, use_idf=False, norm=None) ##if words occur in less than 50 docs remove that word\n",
    "tf_pvectors = vectorizer_tf.fit_transform(X_ptrain.review)    \n",
    "###idf is false then it wont take idf therefore it will run on count vectorization"
   ]
  },
  {
   "cell_type": "code",
   "execution_count": 184,
   "id": "81846465",
   "metadata": {},
   "outputs": [
    {
     "data": {
      "text/plain": [
       "array([[0., 0., 0., ..., 0., 0., 0.],\n",
       "       [0., 0., 0., ..., 0., 0., 0.],\n",
       "       [0., 0., 0., ..., 0., 0., 0.],\n",
       "       ...,\n",
       "       [0., 0., 0., ..., 0., 0., 0.],\n",
       "       [0., 0., 0., ..., 0., 0., 0.],\n",
       "       [0., 0., 0., ..., 0., 0., 0.]])"
      ]
     },
     "execution_count": 184,
     "metadata": {},
     "output_type": "execute_result"
    }
   ],
   "source": [
    "tf_pvectors.A"
   ]
  },
  {
   "cell_type": "code",
   "execution_count": 185,
   "id": "e9027dd6",
   "metadata": {},
   "outputs": [],
   "source": [
    "from sklearn import decomposition\n",
    "from nltk.stem.porter import PorterStemmer\n",
    "from sklearn.model_selection import train_test_split"
   ]
  },
  {
   "cell_type": "code",
   "execution_count": 186,
   "id": "91cb4219",
   "metadata": {},
   "outputs": [],
   "source": [
    "lda = decomposition.LatentDirichletAllocation(n_components=5, max_iter=3, learning_method='online', learning_offset=50, n_jobs=-1, random_state=111)\n",
    "##similar like pca and reduced dimensions to 6\n",
    "WP1 = lda.fit_transform(tf_pvectors)\n",
    "HP1 = lda.components_"
   ]
  },
  {
   "cell_type": "code",
   "execution_count": 187,
   "id": "29544282",
   "metadata": {},
   "outputs": [
    {
     "name": "stdout",
     "output_type": "stream",
     "text": [
      "[[0.05029675 0.05026111 0.79897824 0.05014234 0.05032156]\n",
      " [0.0400015  0.04060117 0.04012645 0.44269321 0.43657767]\n",
      " [0.83911003 0.04000572 0.04081351 0.04004825 0.0400225 ]\n",
      " ...\n",
      " [0.10000057 0.10000034 0.10000194 0.59992352 0.10007363]\n",
      " [0.06819383 0.72641364 0.06879803 0.06791322 0.06868128]\n",
      " [0.06704731 0.72886107 0.06887472 0.06723313 0.06798377]]\n",
      "[[2.13193658e-01 8.49401183e+01 2.13675110e-01 2.19334296e-01\n",
      "  2.25844850e-01 2.34894401e-01 1.16472955e+02 1.47771906e+00\n",
      "  2.13298326e-01 2.38886288e-01 5.72333415e+01 3.94302327e-01\n",
      "  2.20313925e-01 1.53070777e+01 1.25652690e+02 3.18540005e-01\n",
      "  2.32890172e-01 2.33156330e-01 5.64860551e-01 5.65647392e+01\n",
      "  2.19466182e-01 2.15194055e-01 2.27289366e-01 2.15141957e-01\n",
      "  2.19220466e-01 2.30052714e+00 8.92029798e-01 1.20403124e+02\n",
      "  3.05579655e-01 1.03159903e+01 9.54846799e+01 5.12562598e+01\n",
      "  2.29446077e-01 2.19286139e-01 2.18360601e-01 2.17916769e-01\n",
      "  2.15430483e-01 2.22328158e-01 2.15890971e-01 2.21974921e-01\n",
      "  7.72354913e+01 1.08882356e+02 2.21278676e-01 2.15564219e-01\n",
      "  3.83555697e+00 2.29459074e-01 2.25536730e-01 2.64578226e-01\n",
      "  2.47776474e+01 1.00974499e+00 2.50963499e-01 2.20050204e-01\n",
      "  2.23840319e-01 5.48241906e+01 2.24155685e-01 4.04106734e+01\n",
      "  8.85242650e+01 2.17596164e-01 2.33090561e-01 2.30673295e-01\n",
      "  2.17506360e-01 7.49333906e+01 4.15941890e-01 5.07897792e+00\n",
      "  2.16943883e-01 4.16840645e-01 3.29189383e-01 2.31656020e-01\n",
      "  2.28403722e-01 3.42517217e-01 2.18933189e-01 3.20066253e+00\n",
      "  2.23908424e-01 4.42222995e+00 7.70754281e+01 2.14845309e-01\n",
      "  2.18829711e-01 2.19631087e-01 7.09556077e+01 5.87213885e-01\n",
      "  1.61281573e+00 2.34000024e-01 2.39998394e-01 2.18071015e-01\n",
      "  2.74651306e-01 1.62091820e+00 6.10619653e+01 1.45169671e+00\n",
      "  2.58957292e-01 2.17087075e-01 2.21909512e-01 1.08882484e+02\n",
      "  3.06583921e+00]\n",
      " [2.71614819e-01 2.18984689e-01 4.84223948e+01 2.19146513e-01\n",
      "  7.38411233e+01 2.62397144e-01 6.08336049e+01 2.58154817e-01\n",
      "  2.16565403e-01 2.25765299e-01 2.15323255e-01 2.42287202e-01\n",
      "  8.39653379e+01 2.38133590e-01 1.95723393e+02 6.03827642e+01\n",
      "  4.77681049e-01 7.10288530e+00 6.16392529e+01 2.32643774e-01\n",
      "  4.30577707e-01 7.34515362e+01 2.40373825e-01 2.59682104e-01\n",
      "  3.00573488e+00 2.18950172e-01 2.61189158e-01 2.19578064e-01\n",
      "  2.21586100e-01 6.75382830e+00 3.87697838e+00 2.71832783e-01\n",
      "  7.10372300e-01 2.36059749e-01 5.36253777e-01 8.81785265e+01\n",
      "  2.17457597e-01 1.19416756e+02 2.89036011e-01 2.26444104e-01\n",
      "  2.18716851e-01 6.14168476e-01 2.23360266e-01 2.18539102e-01\n",
      "  5.60532453e+01 1.05867337e+02 2.23848809e-01 4.67091058e+01\n",
      "  4.70430236e+01 1.10862651e+02 2.24757283e-01 7.24930201e+01\n",
      "  6.04722172e+01 2.29677196e-01 2.21395566e-01 2.95712091e-01\n",
      "  3.63248639e+02 5.50358909e-01 8.75807766e+01 1.41243434e+02\n",
      "  2.21681575e-01 2.11768272e-01 1.53777904e+00 2.28103634e-01\n",
      "  2.53642923e-01 2.19949760e-01 3.15906586e+01 3.32580115e-01\n",
      "  2.82346435e+00 2.29012488e+01 2.94036661e+01 4.50214293e+01\n",
      "  5.71467354e+01 6.44980913e+01 2.14742849e-01 2.64083722e-01\n",
      "  3.14832076e-01 4.86215198e-01 2.37624203e+00 3.91289251e+00\n",
      "  2.51049670e-01 3.03875185e-01 2.27883128e-01 2.52930885e-01\n",
      "  3.72165800e+01 1.59391111e+02 2.31799921e+00 2.23552847e-01\n",
      "  2.30661927e-01 2.91783558e-01 2.19208529e-01 2.24329637e-01\n",
      "  2.45310884e-01]\n",
      " [2.22013874e-01 2.14375623e-01 2.14702080e-01 5.69176575e+01\n",
      "  2.18656585e-01 2.35882565e-01 3.37597352e-01 2.86577598e-01\n",
      "  4.94737707e+01 1.42844077e+02 2.14663053e-01 1.60728162e+02\n",
      "  2.35418641e-01 2.36434996e-01 2.78354127e-01 1.50774035e+00\n",
      "  7.32136308e+00 4.25765337e+01 1.13234321e+00 2.26228792e-01\n",
      "  4.66691698e-01 2.31169156e-01 3.40801467e-01 2.16335281e-01\n",
      "  6.64306447e+01 4.94275543e+01 4.81557216e+01 2.16050936e-01\n",
      "  2.43356223e-01 1.05317967e+01 2.25786878e-01 2.19454064e-01\n",
      "  2.35554235e-01 2.98430821e-01 4.86533044e+00 2.92826722e-01\n",
      "  5.52845907e+01 2.64364296e-01 2.53324090e-01 1.09428406e+02\n",
      "  3.13314290e-01 2.24126468e-01 1.35361039e+02 6.69241353e+01\n",
      "  2.41362507e-01 1.77513889e+00 9.86076068e+01 3.30819568e-01\n",
      "  2.28478490e-01 4.64280497e-01 1.14206221e+02 2.19636817e-01\n",
      "  5.31525333e+00 3.98400941e-01 3.60885384e-01 2.24364105e-01\n",
      "  8.02750725e+02 4.98247528e+01 2.80762428e+01 3.94545745e-01\n",
      "  2.13865567e-01 2.11680396e-01 5.20939573e+00 2.22479022e-01\n",
      "  2.16337134e-01 2.39452792e-01 3.68024210e-01 3.39721143e-01\n",
      "  3.09217304e-01 4.20535001e+01 3.74966676e-01 2.99162999e+01\n",
      "  1.53787644e+00 1.89367894e+01 2.14967854e-01 2.18720995e-01\n",
      "  1.03088971e+02 5.33706738e+01 4.72551617e-01 2.21652857e-01\n",
      "  2.78245050e-01 6.50744149e+01 2.23184224e-01 1.07314336e+02\n",
      "  2.85140613e-01 6.21671354e+00 2.92919019e+02 7.47566534e+01\n",
      "  2.38099631e-01 2.22419401e-01 4.03454446e+00 2.16506109e-01\n",
      "  2.32410247e-01]\n",
      " [5.16470228e+01 2.26565676e-01 2.17063648e-01 2.21228659e-01\n",
      "  2.21104826e-01 9.76555241e+01 5.25504025e+02 2.36609035e-01\n",
      "  2.54420279e-01 1.76078314e+01 2.35593539e-01 6.09950432e-01\n",
      "  2.23791652e-01 2.92779940e-01 1.37111772e+02 7.84813092e+01\n",
      "  9.02101674e-01 2.04871437e+02 3.24943132e+01 9.89664313e-01\n",
      "  4.97356620e-01 2.15121771e-01 7.04785970e+01 2.15856734e-01\n",
      "  2.28636935e-01 2.91483549e+01 1.66656669e+01 2.18083810e-01\n",
      "  3.63580347e+00 1.79131324e+00 3.60230479e+00 1.62451424e+01\n",
      "  5.80055027e+01 4.54021349e-01 5.22939594e+01 3.40905165e+01\n",
      "  2.15144409e-01 2.26633398e-01 5.00621262e+01 2.70832624e-01\n",
      "  2.34428774e-01 1.24413254e+00 2.43174930e-01 2.21652885e-01\n",
      "  3.09834842e-01 2.57210098e-01 6.42067409e-01 2.28440006e-01\n",
      "  9.12776172e+01 2.46057364e-01 2.40231486e-01 3.03060313e-01\n",
      "  2.19590515e-01 1.07038708e+01 9.65756994e+01 4.22203662e+01\n",
      "  2.36803355e+02 2.20532468e-01 9.92960705e-01 6.07071449e+01\n",
      "  3.62016023e+00 2.11701777e-01 1.28696567e+00 4.63230659e+01\n",
      "  2.13549808e-01 6.23009907e+01 2.51596603e+02 6.68144595e+01\n",
      "  2.20611064e-01 2.24509837e-01 3.08525107e-01 4.38795322e-01\n",
      "  1.69475957e+00 2.49199616e-01 2.15006637e-01 2.17818830e-01\n",
      "  2.30006090e-01 2.56816989e-01 2.38529275e-01 1.27865556e+00\n",
      "  1.15343952e+02 1.18582433e+02 4.84605598e+00 7.88665391e+01\n",
      "  3.69644440e-01 2.34133807e-01 6.62486031e-01 2.80749506e-01\n",
      "  2.24458824e-01 2.20623961e-01 2.40100746e-01 2.14165415e-01\n",
      "  7.54871398e+01]\n",
      " [2.15257415e-01 2.17567956e-01 2.18613584e-01 2.32329270e-01\n",
      "  2.18579014e-01 2.29506780e-01 1.04139092e+00 5.71389408e+01\n",
      "  2.14277367e-01 2.34975374e-01 2.32814888e-01 2.31099189e-01\n",
      "  2.20340261e-01 3.65566589e+01 8.11509990e+01 4.30857661e-01\n",
      "  5.23655324e+01 7.66360558e-01 2.51875781e-01 2.27703151e-01\n",
      "  5.53029579e+01 2.24825783e-01 2.20403048e-01 7.41870497e+01\n",
      "  2.27773939e-01 5.92712643e+01 2.15379936e-01 2.20658758e-01\n",
      "  1.15454535e+02 8.49806089e+01 2.36591071e-01 2.87110507e-01\n",
      "  3.23212313e-01 4.74707530e+01 2.37609637e-01 4.98748207e-01\n",
      "  2.15675578e-01 2.42807627e-01 2.15191123e-01 2.29801678e-01\n",
      "  2.42653058e-01 1.13882899e+01 6.53704656e-01 2.17485017e-01\n",
      "  2.51171979e-01 2.21191621e-01 2.15332461e-01 4.78810752e-01\n",
      "  2.38345343e-01 2.35945803e-01 2.33870614e-01 3.66044409e+00\n",
      "  2.74857609e-01 3.13432431e-01 1.87470590e+00 2.35065657e-01\n",
      "  3.49243882e+02 2.39517368e-01 3.34083155e-01 2.24902232e-01\n",
      "  1.17842791e+02 2.19470699e-01 6.18017131e+01 2.44343935e-01\n",
      "  5.14670162e+01 2.26764527e-01 2.37027528e-01 2.17959825e-01\n",
      "  4.83875732e+01 4.40693655e-01 6.62426359e+01 2.30395918e-01\n",
      "  2.79852958e-01 1.41317430e+01 2.14665419e-01 6.27343458e+01\n",
      "  2.84464300e-01 2.57496698e-01 2.34563396e-01 1.66252769e+02\n",
      "  1.84701704e+01 2.37777833e-01 5.13913530e+01 2.33712271e-01\n",
      "  1.53554741e+01 2.54843416e-01 2.40148309e-01 8.54438247e-01\n",
      "  1.04520828e+02 5.68369872e+01 4.39097888e+01 2.15633863e-01\n",
      "  2.51379326e-01]]\n"
     ]
    }
   ],
   "source": [
    "print(WP1)\n",
    "print(HP1)"
   ]
  },
  {
   "cell_type": "code",
   "execution_count": 188,
   "id": "8fd52179",
   "metadata": {},
   "outputs": [],
   "source": [
    "num_words=15\n",
    "\n",
    "vocab = np.array(vectorizer_tf.get_feature_names())\n",
    "\n",
    "top_pwords = lambda t: [vocab[i] for i in np.argsort(t)[:-num_words-1:-1]]\n",
    "topic_pwords = ([top_pwords(t) for t in HP1])\n",
    "positive_topics = [' '.join(t) for t in topic_pwords]"
   ]
  },
  {
   "cell_type": "code",
   "execution_count": 189,
   "id": "b17eb68f",
   "metadata": {},
   "outputs": [
    {
     "data": {
      "text/plain": [
       "['covid give case would last high omicron always know straight promise take variant corona disease',\n",
       " 'omicron covid vaccine people infection mask live india pandemic could better effective million still delta',\n",
       " 'omicron variant coronavirus come latest mild keep update study look virus lead find today available',\n",
       " 'case report omicron death covid today time booster news many update daily year even right',\n",
       " 'omicron test positive good wave health covid evidence show strong rate first child week early']"
      ]
     },
     "execution_count": 189,
     "metadata": {},
     "output_type": "execute_result"
    }
   ],
   "source": [
    "positive_topics #Headlines with positive sentiments"
   ]
  },
  {
   "cell_type": "code",
   "execution_count": 190,
   "id": "92fab504",
   "metadata": {},
   "outputs": [],
   "source": [
    "colnames = [\"Topic\" + str(i) for i in range(lda.n_components)]\n",
    "docnames = [\"Doc\" + str(i) for i in range(len(X_ptrain.review))]\n",
    "df_doc_ptopic = pd.DataFrame(np.round(WP1, 2), columns=colnames, index=docnames)\n",
    "significant_positive_topic = np.argmax(df_doc_ptopic.values, axis=1)\n",
    "df_doc_ptopic['dominant_topic'] = significant_positive_topic"
   ]
  },
  {
   "cell_type": "code",
   "execution_count": 191,
   "id": "f032ca26",
   "metadata": {},
   "outputs": [
    {
     "data": {
      "text/html": [
       "<div>\n",
       "<style scoped>\n",
       "    .dataframe tbody tr th:only-of-type {\n",
       "        vertical-align: middle;\n",
       "    }\n",
       "\n",
       "    .dataframe tbody tr th {\n",
       "        vertical-align: top;\n",
       "    }\n",
       "\n",
       "    .dataframe thead th {\n",
       "        text-align: right;\n",
       "    }\n",
       "</style>\n",
       "<table border=\"1\" class=\"dataframe\">\n",
       "  <thead>\n",
       "    <tr style=\"text-align: right;\">\n",
       "      <th></th>\n",
       "      <th>Topic0</th>\n",
       "      <th>Topic1</th>\n",
       "      <th>Topic2</th>\n",
       "      <th>Topic3</th>\n",
       "      <th>Topic4</th>\n",
       "      <th>dominant_topic</th>\n",
       "    </tr>\n",
       "  </thead>\n",
       "  <tbody>\n",
       "    <tr>\n",
       "      <th>Doc0</th>\n",
       "      <td>0.05</td>\n",
       "      <td>0.05</td>\n",
       "      <td>0.80</td>\n",
       "      <td>0.05</td>\n",
       "      <td>0.05</td>\n",
       "      <td>2</td>\n",
       "    </tr>\n",
       "    <tr>\n",
       "      <th>Doc1</th>\n",
       "      <td>0.04</td>\n",
       "      <td>0.04</td>\n",
       "      <td>0.04</td>\n",
       "      <td>0.44</td>\n",
       "      <td>0.44</td>\n",
       "      <td>3</td>\n",
       "    </tr>\n",
       "    <tr>\n",
       "      <th>Doc2</th>\n",
       "      <td>0.84</td>\n",
       "      <td>0.04</td>\n",
       "      <td>0.04</td>\n",
       "      <td>0.04</td>\n",
       "      <td>0.04</td>\n",
       "      <td>0</td>\n",
       "    </tr>\n",
       "    <tr>\n",
       "      <th>Doc3</th>\n",
       "      <td>0.10</td>\n",
       "      <td>0.10</td>\n",
       "      <td>0.59</td>\n",
       "      <td>0.10</td>\n",
       "      <td>0.10</td>\n",
       "      <td>2</td>\n",
       "    </tr>\n",
       "    <tr>\n",
       "      <th>Doc4</th>\n",
       "      <td>0.25</td>\n",
       "      <td>0.40</td>\n",
       "      <td>0.22</td>\n",
       "      <td>0.03</td>\n",
       "      <td>0.10</td>\n",
       "      <td>1</td>\n",
       "    </tr>\n",
       "    <tr>\n",
       "      <th>...</th>\n",
       "      <td>...</td>\n",
       "      <td>...</td>\n",
       "      <td>...</td>\n",
       "      <td>...</td>\n",
       "      <td>...</td>\n",
       "      <td>...</td>\n",
       "    </tr>\n",
       "    <tr>\n",
       "      <th>Doc3744</th>\n",
       "      <td>0.07</td>\n",
       "      <td>0.46</td>\n",
       "      <td>0.07</td>\n",
       "      <td>0.34</td>\n",
       "      <td>0.07</td>\n",
       "      <td>1</td>\n",
       "    </tr>\n",
       "    <tr>\n",
       "      <th>Doc3745</th>\n",
       "      <td>0.05</td>\n",
       "      <td>0.05</td>\n",
       "      <td>0.30</td>\n",
       "      <td>0.55</td>\n",
       "      <td>0.05</td>\n",
       "      <td>3</td>\n",
       "    </tr>\n",
       "    <tr>\n",
       "      <th>Doc3746</th>\n",
       "      <td>0.10</td>\n",
       "      <td>0.10</td>\n",
       "      <td>0.10</td>\n",
       "      <td>0.60</td>\n",
       "      <td>0.10</td>\n",
       "      <td>3</td>\n",
       "    </tr>\n",
       "    <tr>\n",
       "      <th>Doc3747</th>\n",
       "      <td>0.07</td>\n",
       "      <td>0.73</td>\n",
       "      <td>0.07</td>\n",
       "      <td>0.07</td>\n",
       "      <td>0.07</td>\n",
       "      <td>1</td>\n",
       "    </tr>\n",
       "    <tr>\n",
       "      <th>Doc3748</th>\n",
       "      <td>0.07</td>\n",
       "      <td>0.73</td>\n",
       "      <td>0.07</td>\n",
       "      <td>0.07</td>\n",
       "      <td>0.07</td>\n",
       "      <td>1</td>\n",
       "    </tr>\n",
       "  </tbody>\n",
       "</table>\n",
       "<p>3749 rows × 6 columns</p>\n",
       "</div>"
      ],
      "text/plain": [
       "         Topic0  Topic1  Topic2  Topic3  Topic4  dominant_topic\n",
       "Doc0       0.05    0.05    0.80    0.05    0.05               2\n",
       "Doc1       0.04    0.04    0.04    0.44    0.44               3\n",
       "Doc2       0.84    0.04    0.04    0.04    0.04               0\n",
       "Doc3       0.10    0.10    0.59    0.10    0.10               2\n",
       "Doc4       0.25    0.40    0.22    0.03    0.10               1\n",
       "...         ...     ...     ...     ...     ...             ...\n",
       "Doc3744    0.07    0.46    0.07    0.34    0.07               1\n",
       "Doc3745    0.05    0.05    0.30    0.55    0.05               3\n",
       "Doc3746    0.10    0.10    0.10    0.60    0.10               3\n",
       "Doc3747    0.07    0.73    0.07    0.07    0.07               1\n",
       "Doc3748    0.07    0.73    0.07    0.07    0.07               1\n",
       "\n",
       "[3749 rows x 6 columns]"
      ]
     },
     "execution_count": 191,
     "metadata": {},
     "output_type": "execute_result"
    }
   ],
   "source": [
    "df_doc_ptopic"
   ]
  },
  {
   "cell_type": "code",
   "execution_count": 192,
   "id": "5844243f",
   "metadata": {},
   "outputs": [
    {
     "data": {
      "text/plain": [
       "2    1053\n",
       "1     793\n",
       "3     746\n",
       "0     605\n",
       "4     552\n",
       "Name: dominant_topic, dtype: int64"
      ]
     },
     "execution_count": 192,
     "metadata": {},
     "output_type": "execute_result"
    }
   ],
   "source": [
    "df_doc_ptopic['dominant_topic'].value_counts()"
   ]
  },
  {
   "cell_type": "code",
   "execution_count": 193,
   "id": "084e845b",
   "metadata": {},
   "outputs": [
    {
     "data": {
      "text/html": [
       "<div>\n",
       "<style scoped>\n",
       "    .dataframe tbody tr th:only-of-type {\n",
       "        vertical-align: middle;\n",
       "    }\n",
       "\n",
       "    .dataframe tbody tr th {\n",
       "        vertical-align: top;\n",
       "    }\n",
       "\n",
       "    .dataframe thead th {\n",
       "        text-align: right;\n",
       "    }\n",
       "</style>\n",
       "<table border=\"1\" class=\"dataframe\">\n",
       "  <thead>\n",
       "    <tr style=\"text-align: right;\">\n",
       "      <th></th>\n",
       "      <th>review</th>\n",
       "      <th>polarity</th>\n",
       "      <th>subjectivity</th>\n",
       "    </tr>\n",
       "  </thead>\n",
       "  <tbody>\n",
       "    <tr>\n",
       "      <th>13606</th>\n",
       "      <td>omicron variant virus cause originate animal i...</td>\n",
       "      <td>0.500000</td>\n",
       "      <td>0.500000</td>\n",
       "    </tr>\n",
       "    <tr>\n",
       "      <th>10025</th>\n",
       "      <td>feb summary bengaluru per bbmpcomm amp dhfwka ...</td>\n",
       "      <td>0.113636</td>\n",
       "      <td>0.272727</td>\n",
       "    </tr>\n",
       "    <tr>\n",
       "      <th>2374</th>\n",
       "      <td>mrbeast joebiden last three day mother corona ...</td>\n",
       "      <td>0.068182</td>\n",
       "      <td>0.260606</td>\n",
       "    </tr>\n",
       "    <tr>\n",
       "      <th>9868</th>\n",
       "      <td>maintenance worker landlord apartment omicron ...</td>\n",
       "      <td>0.800000</td>\n",
       "      <td>0.750000</td>\n",
       "    </tr>\n",
       "    <tr>\n",
       "      <th>1002</th>\n",
       "      <td>breaking australia top health official say peo...</td>\n",
       "      <td>0.250000</td>\n",
       "      <td>0.250000</td>\n",
       "    </tr>\n",
       "  </tbody>\n",
       "</table>\n",
       "</div>"
      ],
      "text/plain": [
       "                                                  review  polarity  \\\n",
       "13606  omicron variant virus cause originate animal i...  0.500000   \n",
       "10025  feb summary bengaluru per bbmpcomm amp dhfwka ...  0.113636   \n",
       "2374   mrbeast joebiden last three day mother corona ...  0.068182   \n",
       "9868   maintenance worker landlord apartment omicron ...  0.800000   \n",
       "1002   breaking australia top health official say peo...  0.250000   \n",
       "\n",
       "       subjectivity  \n",
       "13606      0.500000  \n",
       "10025      0.272727  \n",
       "2374       0.260606  \n",
       "9868       0.750000  \n",
       "1002       0.250000  "
      ]
     },
     "execution_count": 193,
     "metadata": {},
     "output_type": "execute_result"
    }
   ],
   "source": [
    "X_ptrain.head()"
   ]
  },
  {
   "cell_type": "code",
   "execution_count": 194,
   "id": "edef518a",
   "metadata": {},
   "outputs": [],
   "source": [
    "WPHold = lda.transform(vectorizer_tf.transform(X_phold.review[:5]))"
   ]
  },
  {
   "cell_type": "markdown",
   "id": "551dd5e2",
   "metadata": {},
   "source": [
    "# # Negetive Sentimental Analysis"
   ]
  },
  {
   "cell_type": "code",
   "execution_count": 195,
   "id": "a4233ce1",
   "metadata": {},
   "outputs": [
    {
     "name": "stdout",
     "output_type": "stream",
     "text": [
      "                                                  review  polarity  \\\n",
      "4      winterolympics already underway olympian look ... -0.200000   \n",
      "6      someone use term corona refer virus today hear... -0.500000   \n",
      "8      month tonga finally omicron people single vaxx... -0.196429   \n",
      "39                       davethemurse sorry omicron suck -0.500000   \n",
      "43     omicron milder variant delta make dangerous np... -0.600000   \n",
      "...                                                  ...       ...   \n",
      "17026  know government handle pandemic badly even fai... -0.350000   \n",
      "17027  truth finally announce wait two year past two ... -0.062500   \n",
      "17031  capt treat omicron lyk common cold vaccineside... -0.450000   \n",
      "17037  india friday report net decrease active corona... -0.066667   \n",
      "17044  patient different variant yes common possible ... -0.100000   \n",
      "\n",
      "       subjectivity  \n",
      "4          0.400000  \n",
      "6          1.000000  \n",
      "8          0.517857  \n",
      "39         1.000000  \n",
      "43         0.900000  \n",
      "...             ...  \n",
      "17026      0.333333  \n",
      "17027      0.437500  \n",
      "17031      0.750000  \n",
      "17037      0.300000  \n",
      "17044      0.700000  \n",
      "\n",
      "[2075 rows x 3 columns]\n",
      "(1452, 3)\n",
      "(623, 3)\n",
      "[[0. 0. 0. ... 0. 0. 0.]\n",
      " [0. 0. 0. ... 0. 0. 0.]\n",
      " [0. 0. 0. ... 0. 0. 1.]\n",
      " ...\n",
      " [0. 0. 0. ... 0. 0. 0.]\n",
      " [0. 0. 0. ... 0. 0. 0.]\n",
      " [0. 0. 0. ... 0. 0. 0.]]\n",
      "[[0.06670737 0.0666734  0.73327057 0.06667901 0.06666965]\n",
      " [0.04236411 0.04029727 0.27772573 0.04023428 0.59937862]\n",
      " [0.06732756 0.06673705 0.06714744 0.06727025 0.73151771]\n",
      " ...\n",
      " [0.01818457 0.01818339 0.01825476 0.01818359 0.92719369]\n",
      " [0.10246545 0.10023537 0.10175132 0.10214229 0.59340556]\n",
      " [0.86593377 0.03335388 0.0335024  0.03356835 0.03364161]]\n",
      "[[3.11644479e-01 5.81372715e-01 3.06035923e-01 4.66354862e-01\n",
      "  4.25023960e-01 2.97946289e-01 6.93040745e-01 3.52912638e-01\n",
      "  1.88697949e+01 3.45683083e+00 1.16357969e+00 3.20452968e-01\n",
      "  1.66896211e+00 4.15720579e-01 8.37101228e+00 1.67055062e+00\n",
      "  3.66124017e-01 3.04324628e+01 3.29863131e-01 1.44494833e+02\n",
      "  3.02182245e+00 3.14624698e-01 2.12898671e+01 3.61791001e-01\n",
      "  8.50892319e+00 3.42430156e-01 9.41296280e-01 3.45515742e-01\n",
      "  3.45825454e-01 3.01456860e-01 1.38247979e+01 2.98251499e+01\n",
      "  6.23040849e-01 4.77580789e+00 3.08841552e-01 2.84717000e-01\n",
      "  3.47825229e-01 3.37997552e-01 9.20086421e-01 3.79706572e-01\n",
      "  3.39628638e-01 4.58176112e-01 4.42612317e-01 4.97602964e+01\n",
      "  2.04982547e+01 4.18076389e+01 5.72656461e+00 3.18446813e-01\n",
      "  3.94146382e-01 2.12850661e+01 3.28266978e-01 5.80612995e+01\n",
      "  3.92496179e+00 6.81058806e+00 6.24969738e-01 3.46165096e-01\n",
      "  3.90830163e-01 2.54141825e+01 3.24090416e-01 3.57730323e-01\n",
      "  9.75821391e-01 3.84157244e+01 3.37406887e-01 1.50800298e+02\n",
      "  2.10555324e+01 3.21443994e+01 3.44294597e-01 2.15678971e+01\n",
      "  3.10667246e-01 6.15438218e+01 4.13404842e-01 4.49664455e-01\n",
      "  3.32597435e-01 2.40872308e+01 3.16736510e-01 3.47224831e-01\n",
      "  2.98351562e-01 5.66683714e+00 5.20083002e-01 1.92277384e+01\n",
      "  5.95962904e-01 3.36951258e-01 5.46451469e-01 7.90449717e-01\n",
      "  4.07077121e-01 1.22243453e+01 1.20044093e+01 5.16826690e+01\n",
      "  5.73643491e-01 1.73415626e+00 3.27026523e-01 1.41093388e+00\n",
      "  2.43284345e+01 1.08975491e+00 3.17333690e-01 3.21011001e-01\n",
      "  3.39290971e-01 3.74739215e+01 3.07838864e-01 5.14185011e-01\n",
      "  6.23662841e-01 3.63357707e+00 1.26218960e+00 2.69741248e+00\n",
      "  1.86283416e+01 1.73111104e+01 2.20357852e+00 2.96877255e+00\n",
      "  5.97972844e-01 3.52200143e-01 5.32675939e-01 2.02077293e+01\n",
      "  6.21792265e-01]\n",
      " [3.11520567e-01 3.04419726e+01 3.31422459e-01 1.88801679e+01\n",
      "  3.87820605e-01 2.83383573e-01 3.21755182e-01 3.31814719e-01\n",
      "  3.04597513e-01 3.36133132e-01 4.72024476e-01 3.09666377e-01\n",
      "  3.59746207e-01 3.44410412e-01 7.39552392e+00 3.24324906e-01\n",
      "  6.35602728e-01 3.33348465e-01 3.19024977e-01 3.27408566e-01\n",
      "  3.44010165e-01 4.51356481e-01 3.30599211e-01 3.15077244e-01\n",
      "  8.96401816e+00 2.94809218e-01 3.51410491e-01 3.27365233e-01\n",
      "  2.52809950e+01 2.97342409e+01 2.53775731e+00 4.31942229e-01\n",
      "  4.51062282e-01 3.04146842e-01 3.03026874e-01 2.52809618e+01\n",
      "  5.35340230e-01 1.71658060e+01 3.39932832e-01 2.78554056e+01\n",
      "  3.06433995e-01 3.05440211e-01 4.13645290e-01 5.45614509e-01\n",
      "  3.37196819e-01 3.48426150e-01 3.49259364e-01 3.35696393e+01\n",
      "  1.25807027e+00 4.54114453e-01 3.16402336e+01 3.21896938e-01\n",
      "  3.90355609e+00 3.71276555e-01 3.32861251e-01 2.52757325e+01\n",
      "  5.44120590e-01 3.27782950e-01 3.08968447e-01 5.04662790e-01\n",
      "  3.16647436e-01 3.05557792e-01 1.00476516e+00 7.95351730e+00\n",
      "  1.64226457e+00 4.61699988e+00 3.23427227e-01 3.16829745e-01\n",
      "  3.20837608e-01 3.33985360e-01 8.94461714e-01 3.81937697e+01\n",
      "  3.17839595e-01 3.47867014e-01 3.00638200e-01 3.41515725e-01\n",
      "  2.52379859e+01 3.63811417e-01 3.34236872e-01 3.06304045e-01\n",
      "  4.63539879e-01 8.98776092e-01 3.22556867e-01 5.54777959e-01\n",
      "  2.59618217e+00 1.36316759e+00 3.19035239e-01 2.93315263e-01\n",
      "  3.03867000e-01 2.98693029e-01 3.36940457e-01 3.22567592e-01\n",
      "  3.37818068e-01 5.06438766e-01 3.08541201e-01 2.68532054e+01\n",
      "  3.09996328e+01 3.15470597e-01 2.36669916e+01 1.18582381e+00\n",
      "  3.23436205e+01 3.45487864e-01 6.03560318e-01 6.49999723e-01\n",
      "  3.21050738e-01 3.07908038e-01 3.44975576e-01 3.37117429e-01\n",
      "  2.76053259e+00 3.74114155e-01 3.53464082e-01 5.23733925e-01\n",
      "  3.41544604e-01]\n",
      " [1.96796352e+01 7.27160136e-01 2.74781701e+01 3.19090467e-01\n",
      "  3.56612964e-01 1.92641158e+01 6.51386360e-01 2.79566572e+01\n",
      "  4.58923759e-01 5.50820284e+01 7.84981970e-01 3.08849389e-01\n",
      "  2.37244219e+01 4.51633639e-01 1.12320397e+01 4.36213366e-01\n",
      "  5.36125366e+01 3.00733316e-01 3.29836046e-01 1.95377981e+01\n",
      "  1.78575677e+01 4.41164987e-01 8.05659851e-01 3.41694988e-01\n",
      "  2.00066497e+01 1.65251175e+01 3.84222045e-01 1.92583164e+01\n",
      "  3.16373937e-01 3.19643536e-01 4.46029227e-01 3.23503581e-01\n",
      "  4.20921597e-01 1.75777504e+00 1.92752236e+01 3.29005138e-01\n",
      "  1.19811139e+00 6.78431548e-01 3.47448589e-01 3.95144171e-01\n",
      "  3.18048389e-01 2.53271968e+01 3.41792621e-01 3.79518875e-01\n",
      "  3.19536691e-01 3.12873560e-01 1.47711080e+01 3.20982569e-01\n",
      "  6.02309956e+00 7.32493828e-01 3.14126836e-01 3.35779541e-01\n",
      "  4.88468577e+00 3.65872108e-01 3.97513303e-01 3.26425078e-01\n",
      "  3.16294746e+01 3.12010155e-01 2.10851057e+01 5.15561995e+00\n",
      "  3.99834750e-01 3.62407240e-01 1.75741077e+01 8.51373083e+01\n",
      "  3.15822074e-01 4.12631476e-01 3.35856372e-01 8.88702216e+00\n",
      "  4.69948938e-01 3.76901524e-01 8.25505356e+00 3.96946607e-01\n",
      "  3.17344043e-01 3.20441718e+01 2.90560942e-01 1.73264861e+01\n",
      "  3.09918746e-01 2.35747588e+01 3.27550017e-01 4.81582399e-01\n",
      "  4.21722828e-01 7.41243475e+00 2.42331595e+00 3.89238680e-01\n",
      "  3.19720293e-01 6.63753404e-01 2.88078214e+01 2.91930400e-01\n",
      "  2.90941588e-01 2.85887971e+00 2.87103509e-01 4.82557023e-01\n",
      "  3.36442210e-01 1.49642303e+01 3.31529496e-01 3.17260415e-01\n",
      "  3.69312573e-01 3.08005243e-01 3.16067033e-01 4.12871128e-01\n",
      "  1.21958154e+01 6.22335160e-01 4.39490660e+01 4.73542773e-01\n",
      "  2.89174730e-01 2.96556938e-01 7.11443179e-01 1.84041559e+01\n",
      "  3.43935975e-01 4.14945381e+01 3.45587891e-01 3.93994253e+00\n",
      "  3.84887398e-01]\n",
      " [3.27967392e-01 3.22195376e-01 4.31908358e-01 3.31560289e-01\n",
      "  3.76823079e-01 4.23703754e-01 1.76572773e+01 6.19917957e-01\n",
      "  2.95375129e-01 6.83276932e+01 1.41359239e+01 3.16859280e-01\n",
      "  5.73824115e-01 3.36841204e-01 4.07223331e-01 6.59183816e-01\n",
      "  4.87060052e-01 5.82683120e-01 3.28234740e-01 3.24413755e+01\n",
      "  3.50195909e-01 3.82951991e-01 1.38751995e+00 2.64510962e+00\n",
      "  4.50244511e+01 3.02598934e-01 1.43738294e+01 4.15930863e-01\n",
      "  3.13352101e-01 2.97149287e-01 4.13540524e-01 3.56949108e-01\n",
      "  2.98622572e-01 3.84648474e-01 4.28525455e-01 3.20829043e-01\n",
      "  5.75812039e-01 3.24966672e-01 3.41596542e-01 5.43823722e-01\n",
      "  3.17970916e+01 3.19406640e-01 3.96729935e+01 3.76998430e-01\n",
      "  3.87419727e-01 4.70309890e-01 7.27553581e+00 4.43212113e-01\n",
      "  4.25831056e-01 3.29730090e-01 1.22471388e+01 3.03708833e-01\n",
      "  4.22831967e-01 3.13444501e-01 2.78397051e+01 2.82378346e-01\n",
      "  5.10977788e-01 4.29615225e-01 4.58839381e-01 6.12595299e-01\n",
      "  5.25761040e-01 3.56519673e-01 9.62425414e-01 8.30425482e+01\n",
      "  4.08302909e-01 4.07449274e-01 5.40171937e+01 3.57775801e-01\n",
      "  3.83448170e+01 3.98980874e-01 6.09659463e+00 3.47310327e-01\n",
      "  3.40976825e-01 4.34790153e+00 3.18282055e-01 4.06469905e-01\n",
      "  2.99401056e-01 3.16222844e-01 2.07219169e+01 4.85398748e-01\n",
      "  3.38817745e-01 3.87551957e+00 3.32158983e-01 3.57604973e-01\n",
      "  9.67268382e-01 3.85948459e-01 3.92323149e-01 3.26651878e-01\n",
      "  3.03000237e-01 4.56169970e+00 2.41335359e+01 1.51586741e+01\n",
      "  3.96135509e-01 1.31135655e+00 1.92881895e+01 3.34677840e-01\n",
      "  3.03598618e-01 3.14091751e-01 3.24639782e-01 1.82342626e+01\n",
      "  3.42287153e-01 3.92934498e+00 1.06947517e+00 3.57905720e+00\n",
      "  3.10083435e-01 3.11546099e-01 3.16028099e-01 4.25835472e-01\n",
      "  1.54248284e+01 5.14566077e-01 3.67151845e+01 4.00163902e-01\n",
      "  9.26763016e-01]\n",
      " [4.54437804e-01 3.34275369e-01 3.66761829e-01 3.42870588e-01\n",
      "  4.53395577e+01 3.17349160e-01 3.64866088e-01 3.70186702e-01\n",
      "  1.56091477e+00 4.50650163e+00 4.42418889e-01 2.17572459e+01\n",
      "  3.54451635e-01 5.84583017e+01 8.81406713e-01 1.49218230e+01\n",
      "  1.40983549e+00 6.95475932e-01 2.45967307e+01 3.66746124e+00\n",
      "  3.52273771e-01 3.18962943e+01 1.02589438e+01 1.74623156e+01\n",
      "  5.80398606e+00 3.33702237e-01 1.75605299e+01 4.38707015e+01\n",
      "  3.11441340e-01 5.44031551e-01 7.19230101e+00 1.33792802e+00\n",
      "  1.62231658e+01 1.45433872e+01 4.38347860e+01 3.23108263e-01\n",
      "  2.07783170e+01 4.09630086e-01 2.61810834e+01 4.73528619e-01\n",
      "  4.76198326e-01 5.07263265e-01 6.84100441e-01 7.19053600e-01\n",
      "  7.74979309e-01 1.89586098e+00 6.10499947e-01 3.26094046e-01\n",
      "  1.66023823e+01 3.97371242e-01 4.41963508e-01 5.25276689e-01\n",
      "  4.51520856e+00 1.35709082e+01 9.68583421e+00 3.17900382e-01\n",
      "  3.69644998e-01 1.06464662e+00 3.05520145e-01 1.58355278e+01\n",
      "  4.03442450e+01 3.24874695e+00 2.64043250e+00 2.95879989e+02\n",
      "  3.62739716e-01 3.84383888e-01 1.18244897e+01 3.46815060e+01\n",
      "  5.73050060e-01 9.52606561e-01 7.65098255e+00 9.74367322e-01\n",
      "  2.27485747e+01 3.26313566e-01 2.28686402e+01 3.44513776e-01\n",
      "  3.23283939e-01 4.35202391e-01 3.40572063e-01 1.09361061e+00\n",
      "  2.50245511e+01 1.60418776e+01 5.15164369e+01 3.52465360e+01\n",
      "  2.20462753e+01 4.30128701e+00 3.90842989e-01 1.96841941e+00\n",
      "  2.79807574e+01 3.56141407e+01 5.83045213e-01 7.67519912e-01\n",
      "  4.35534021e+00 1.85886570e+00 4.18453391e-01 3.21011196e-01\n",
      "  3.47526356e-01 3.47271703e+01 3.37585763e-01 4.42138189e-01\n",
      "  1.06154915e+01 7.53543929e+01 4.14064032e-01 2.22597574e+01\n",
      "  1.30459298e+01 5.26431605e-01 2.89129940e+01 3.54470026e-01\n",
      "  4.08280466e-01 4.22017291e-01 3.75785273e-01 4.57203464e-01\n",
      "  4.14770940e+01]]\n"
     ]
    }
   ],
   "source": [
    "df_negetive=df[df.polarity<0]\n",
    "print(df_negetive)\n",
    "\n",
    "X_ntrain, X_nhold = train_test_split(df_negetive, test_size=0.3, random_state=111)\n",
    "print(X_ntrain.shape)\n",
    "print(X_nhold.shape)\n",
    "\n",
    "vectorizer_tf = TfidfVectorizer(tokenizer=tokenize, max_df=0.7, min_df=20 , max_features=10000, use_idf=False, norm=None) ##if words occur in less than 50 docs remove that word\n",
    "tf_nvectors = vectorizer_tf.fit_transform(X_ntrain.review)    \n",
    "###idf is false then it wont take idf therefore it will run on count vectorization\n",
    "\n",
    "print(tf_nvectors.A)\n",
    "\n",
    "lda = decomposition.LatentDirichletAllocation(n_components=5, max_iter=3, learning_method='online', learning_offset=50, n_jobs=-1, random_state=111)\n",
    "##similar like pca and reduced dimensions to 6\n",
    "WN1 = lda.fit_transform(tf_nvectors)\n",
    "HN1 = lda.components_\n",
    "\n",
    "print(WN1)\n",
    "print(HN1)\n",
    "\n",
    "vocab = np.array(vectorizer_tf.get_feature_names())\n",
    "\n",
    "top_nwords = lambda t: [vocab[i] for i in np.argsort(t)[:-num_words-1:-1]]\n",
    "topic_nwords = ([top_nwords(t) for t in HN1])\n",
    "negetive_topics = [' '.join(t) for t in topic_nwords]"
   ]
  },
  {
   "cell_type": "code",
   "execution_count": 196,
   "id": "2df5e8fa",
   "metadata": {},
   "outputs": [
    {
     "data": {
      "text/plain": [
       "['omicron covid previous long tell infection know news truth pandemic could fake medium time report',\n",
       " 'record late vaccine lockdown track another early health trace didoing glib meal rishi unlock avoid',\n",
       " 'omicron case coronavirus virus world report mean take bring around india cold sadly military death',\n",
       " 'omicron case past death infect population worse covid hour mask thing serious total vaccination booster',\n",
       " 'omicron variant come still base detrick fort year need test study truth people dangerous wave']"
      ]
     },
     "execution_count": 196,
     "metadata": {},
     "output_type": "execute_result"
    }
   ],
   "source": [
    "negetive_topics #Headlines with positive sentiments"
   ]
  },
  {
   "cell_type": "code",
   "execution_count": 197,
   "id": "2884ebe4",
   "metadata": {},
   "outputs": [],
   "source": [
    "colnames = [\"Topic\" + str(i) for i in range(lda.n_components)]\n",
    "docnames = [\"Doc\" + str(i) for i in range(len(X_ntrain.review))]\n",
    "df_doc_ntopic = pd.DataFrame(np.round(WN1, 2), columns=colnames, index=docnames)\n",
    "significant_negetive_topic = np.argmax(df_doc_ntopic.values, axis=1)\n",
    "df_doc_ntopic['dominant_topic'] = significant_negetive_topic"
   ]
  },
  {
   "cell_type": "code",
   "execution_count": 198,
   "id": "d95bbcfc",
   "metadata": {},
   "outputs": [
    {
     "name": "stdout",
     "output_type": "stream",
     "text": [
      "         Topic0  Topic1  Topic2  Topic3  Topic4  dominant_topic\n",
      "Doc0       0.07    0.07    0.73    0.07    0.07               2\n",
      "Doc1       0.04    0.04    0.28    0.04    0.60               4\n",
      "Doc2       0.07    0.07    0.07    0.07    0.73               4\n",
      "Doc3       0.05    0.05    0.31    0.05    0.54               4\n",
      "Doc4       0.20    0.20    0.20    0.20    0.20               0\n",
      "...         ...     ...     ...     ...     ...             ...\n",
      "Doc1447    0.05    0.05    0.80    0.05    0.05               2\n",
      "Doc1448    0.04    0.04    0.04    0.04    0.84               4\n",
      "Doc1449    0.02    0.02    0.02    0.02    0.93               4\n",
      "Doc1450    0.10    0.10    0.10    0.10    0.59               4\n",
      "Doc1451    0.87    0.03    0.03    0.03    0.03               0\n",
      "\n",
      "[1452 rows x 6 columns]\n"
     ]
    }
   ],
   "source": [
    "print(df_doc_ntopic)"
   ]
  },
  {
   "cell_type": "code",
   "execution_count": 199,
   "id": "a19f2662",
   "metadata": {},
   "outputs": [
    {
     "data": {
      "text/plain": [
       "4    477\n",
       "0    448\n",
       "2    225\n",
       "3    206\n",
       "1     96\n",
       "Name: dominant_topic, dtype: int64"
      ]
     },
     "execution_count": 199,
     "metadata": {},
     "output_type": "execute_result"
    }
   ],
   "source": [
    "df_doc_ntopic['dominant_topic'].value_counts()"
   ]
  },
  {
   "cell_type": "code",
   "execution_count": 200,
   "id": "6df2039b",
   "metadata": {},
   "outputs": [],
   "source": [
    "WNHold = lda.transform(vectorizer_tf.transform(X_phold.review[:5]))"
   ]
  },
  {
   "cell_type": "markdown",
   "id": "e2a69b46",
   "metadata": {},
   "source": [
    "# Neutral Reviews "
   ]
  },
  {
   "cell_type": "code",
   "execution_count": 201,
   "id": "b249c8ca",
   "metadata": {},
   "outputs": [
    {
     "name": "stdout",
     "output_type": "stream",
     "text": [
      "                                                  review  polarity  \\\n",
      "0      daily confirm covid case county covid insight ...       0.0   \n",
      "1      cdc say number fully vaccinated omicron patien...       0.0   \n",
      "2      daily confirm covid case county covid insight ...       0.0   \n",
      "3      daily confirm covid case county covid insight ...       0.0   \n",
      "7      daily confirm covid case county covid insight ...       0.0   \n",
      "...                                                  ...       ...   \n",
      "17038  drahmedkalebi manage inevitable insightful wor...       0.0   \n",
      "17039  cuba also administer booster counter omicron w...       0.0   \n",
      "17040  please note update announcement always discord...       0.0   \n",
      "17043  newzealand longcovidkids mask ventilation scho...       0.0   \n",
      "17045  dcyellowcab pay via electronic payment contact...       0.0   \n",
      "\n",
      "       subjectivity  \n",
      "0               0.0  \n",
      "1               0.0  \n",
      "2               0.0  \n",
      "3               0.0  \n",
      "7               0.0  \n",
      "...             ...  \n",
      "17038           0.5  \n",
      "17039           0.0  \n",
      "17040           0.0  \n",
      "17043           0.0  \n",
      "17045           0.0  \n",
      "\n",
      "[9615 rows x 3 columns]\n",
      "(6730, 3)\n",
      "(2885, 3)\n",
      "[[0. 0. 0. ... 0. 0. 0.]\n",
      " [0. 0. 0. ... 0. 0. 0.]\n",
      " [0. 0. 0. ... 0. 0. 0.]\n",
      " ...\n",
      " [0. 0. 0. ... 0. 0. 0.]\n",
      " [0. 0. 0. ... 0. 0. 0.]\n",
      " [0. 0. 0. ... 0. 0. 0.]]\n",
      "[[0.02503544 0.02500002 0.02504743 0.89984549 0.02507162]\n",
      " [0.02000019 0.91994594 0.02000002 0.02002412 0.02002973]\n",
      " [0.10000016 0.10000002 0.10000012 0.59999941 0.10000029]\n",
      " ...\n",
      " [0.10135614 0.10000022 0.10185634 0.593803   0.1029843 ]\n",
      " [0.02000019 0.91994594 0.02000002 0.02002412 0.02002973]\n",
      " [0.21597239 0.03586267 0.22260271 0.49201137 0.03355086]]\n",
      "[[ 0.26857497  0.20285617  0.20248684 ... 61.9690511  53.87671455\n",
      "   0.20651436]\n",
      " [ 0.20242424  0.2027839   0.2025309  ...  0.20209691  0.20351718\n",
      "   0.20581306]\n",
      " [ 0.20786865  0.20486433 21.74876922 ...  0.27877971  0.20480466\n",
      "   1.7856074 ]\n",
      " [ 0.20528136 26.50126067  0.20270998 ...  0.35828498  0.20824244\n",
      "  28.41962372]\n",
      " [18.86393531  0.26304533  0.20456651 ...  0.20508434  0.21435977\n",
      "   0.20294817]]\n"
     ]
    }
   ],
   "source": [
    "df_neutral=df[df.polarity==0]\n",
    "print(df_neutral)\n",
    "\n",
    "X_neutrain, X_nuehold = train_test_split(df_neutral, test_size=0.3, random_state=111)\n",
    "print(X_neutrain.shape)\n",
    "print(X_nuehold.shape)\n",
    "\n",
    "vectorizer_tf = TfidfVectorizer(tokenizer=tokenize, max_df=0.7, min_df=20 , max_features=10000, use_idf=False, norm=None) ##if words occur in less than 50 docs remove that word\n",
    "tf_neuvectors = vectorizer_tf.fit_transform(X_neutrain.review)    \n",
    "###idf is false then it wont take idf therefore it will run on count vectorization\n",
    "\n",
    "print(tf_neuvectors.A)\n",
    "\n",
    "lda = decomposition.LatentDirichletAllocation(n_components=5, max_iter=3, learning_method='online', learning_offset=50, n_jobs=-1, random_state=111)\n",
    "##similar like pca and reduced dimensions to 6\n",
    "WN1 = lda.fit_transform(tf_neuvectors)\n",
    "HN1 = lda.components_\n",
    "\n",
    "print(WN1)\n",
    "print(HN1)\n",
    "\n",
    "vocab = np.array(vectorizer_tf.get_feature_names())\n",
    "\n",
    "top_neuwords = lambda t: [vocab[i] for i in np.argsort(t)[:-num_words-1:-1]]\n",
    "topic_neuwords = ([top_neuwords(t) for t in HN1])\n",
    "neutral_topics = [' '.join(t) for t in topic_neuwords]"
   ]
  },
  {
   "cell_type": "code",
   "execution_count": 148,
   "id": "043d6eb8",
   "metadata": {},
   "outputs": [
    {
     "data": {
      "text/plain": [
       "['omicron people pandemic fort detrick delta virus come still country government india minister take would',\n",
       " 'covid insight analytics county team death case population confirm growth daily total distribution state life',\n",
       " 'omicron need drericding report help cdcgov erictopol know mtosterholm covidwatch scottgottliebmd truth emergency time tell',\n",
       " 'omicron vaccine variant covid show infection update study report news enough world restriction vaccination like',\n",
       " 'omicron coronavirus give mask health case wave believe milder inevitable surrender surge variant today subvariant']"
      ]
     },
     "execution_count": 148,
     "metadata": {},
     "output_type": "execute_result"
    }
   ],
   "source": [
    "neutral_topics #Headlines with positive sentiments"
   ]
  },
  {
   "cell_type": "code",
   "execution_count": 150,
   "id": "9631c6e6",
   "metadata": {},
   "outputs": [],
   "source": [
    "colnames = [\"Topic\" + str(i) for i in range(lda.n_components)]\n",
    "docnames = [\"Doc\" + str(i) for i in range(len(X_neutrain.review))]\n",
    "df_doc_neutopic = pd.DataFrame(np.round(WN1, 2), columns=colnames, index=docnames)\n",
    "significant_neutral_topic = np.argmax(df_doc_neutopic.values, axis=1)\n",
    "df_doc_neutopic['dominant_topic'] = significant_neutral_topic"
   ]
  },
  {
   "cell_type": "code",
   "execution_count": 151,
   "id": "32915bd1",
   "metadata": {},
   "outputs": [
    {
     "name": "stdout",
     "output_type": "stream",
     "text": [
      "         Topic0  Topic1  Topic2  Topic3  Topic4  dominant_topic\n",
      "Doc0       0.03    0.03    0.03    0.90    0.03               3\n",
      "Doc1       0.02    0.92    0.02    0.02    0.02               1\n",
      "Doc2       0.10    0.10    0.10    0.60    0.10               3\n",
      "Doc3       0.03    0.19    0.03    0.03    0.71               4\n",
      "Doc4       0.03    0.35    0.03    0.54    0.03               3\n",
      "...         ...     ...     ...     ...     ...             ...\n",
      "Doc6725    0.20    0.20    0.53    0.03    0.03               2\n",
      "Doc6726    0.03    0.03    0.03    0.46    0.44               3\n",
      "Doc6727    0.10    0.10    0.10    0.59    0.10               3\n",
      "Doc6728    0.02    0.92    0.02    0.02    0.02               1\n",
      "Doc6729    0.22    0.04    0.22    0.49    0.03               3\n",
      "\n",
      "[6730 rows x 6 columns]\n"
     ]
    }
   ],
   "source": [
    "print(df_doc_neutopic)"
   ]
  },
  {
   "cell_type": "code",
   "execution_count": 152,
   "id": "df2cd237",
   "metadata": {},
   "outputs": [
    {
     "data": {
      "text/plain": [
       "1    2061\n",
       "3    1639\n",
       "4    1255\n",
       "0    1201\n",
       "2     574\n",
       "Name: dominant_topic, dtype: int64"
      ]
     },
     "execution_count": 152,
     "metadata": {},
     "output_type": "execute_result"
    }
   ],
   "source": [
    "df_doc_neutopic['dominant_topic'].value_counts()"
   ]
  },
  {
   "cell_type": "code",
   "execution_count": 153,
   "id": "2eda736c",
   "metadata": {},
   "outputs": [],
   "source": [
    "WNHold = lda.transform(vectorizer_tf.transform(X_phold.review[:5]))"
   ]
  },
  {
   "cell_type": "markdown",
   "id": "0cf4d655",
   "metadata": {},
   "source": [
    "# 2D- Clustering"
   ]
  },
  {
   "cell_type": "code",
   "execution_count": 120,
   "id": "5ecebedf",
   "metadata": {},
   "outputs": [
    {
     "data": {
      "text/plain": [
       "17046"
      ]
     },
     "execution_count": 120,
     "metadata": {},
     "output_type": "execute_result"
    }
   ],
   "source": [
    "import re\n",
    "\n",
    "stop_words = nltk.corpus.stopwords.words('english')\n",
    "\n",
    "def normalize_document(doc):\n",
    "    # lower case and remove special characters\\whitespaces\n",
    "    doc = re.sub(r'[^a-zA-Z0-9\\s]', '', doc) #replace all the characters i.e blank which dont belong to this text\n",
    "    doc = doc.lower()\n",
    "    doc = doc.strip()\n",
    "    # tokenize document\n",
    "    tokens = nltk.word_tokenize(doc)\n",
    "    # filter stopwords out of document\n",
    "    filtered_tokens = [token for token in tokens if token not in stop_words]\n",
    "    # re-create document from filtered tokens\n",
    "    doc = ' '.join(filtered_tokens)\n",
    "    return doc\n",
    "\n",
    "normalize_corpus = np.vectorize(normalize_document) #here we vectorize the function as compared to previous program #you can use the 11th session tecniqe by using apply aslo\n",
    "\n",
    "norm_corpus = normalize_corpus(list(review['review'])) ##pasing list in the function\n",
    "len(norm_corpus)\n"
   ]
  },
  {
   "cell_type": "code",
   "execution_count": 121,
   "id": "4fdf2947",
   "metadata": {},
   "outputs": [
    {
     "data": {
      "text/plain": [
       "(17046, 448)"
      ]
     },
     "execution_count": 121,
     "metadata": {},
     "output_type": "execute_result"
    }
   ],
   "source": [
    "cv = CountVectorizer(ngram_range=(1, 2), min_df=70, max_df=0.6) ##collect tokens which have occured more than 10 documents if there is no point\n",
    "cv_matrix = cv.fit_transform(norm_corpus)\n",
    "cv_matrix.shape"
   ]
  },
  {
   "cell_type": "code",
   "execution_count": 370,
   "id": "a50c6aba",
   "metadata": {},
   "outputs": [
    {
     "data": {
      "text/plain": [
       "KMeans(max_iter=1000, n_clusters=30, n_init=50, random_state=42)"
      ]
     },
     "execution_count": 370,
     "metadata": {},
     "output_type": "execute_result"
    }
   ],
   "source": [
    "from sklearn.cluster import KMeans\n",
    "\n",
    "NUM_CLUSTERS = 30\n",
    "km = KMeans(n_clusters=NUM_CLUSTERS, max_iter=1000, n_init=50, random_state=42).fit(cv_matrix)\n",
    "km"
   ]
  },
  {
   "cell_type": "code",
   "execution_count": 371,
   "id": "94f5ff71",
   "metadata": {},
   "outputs": [
    {
     "data": {
      "text/plain": [
       "Counter({1: 2632,\n",
       "         0: 11663,\n",
       "         6: 112,\n",
       "         27: 122,\n",
       "         7: 332,\n",
       "         29: 89,\n",
       "         23: 211,\n",
       "         4: 81,\n",
       "         25: 34,\n",
       "         8: 215,\n",
       "         3: 282,\n",
       "         11: 36,\n",
       "         24: 26,\n",
       "         12: 127,\n",
       "         10: 156,\n",
       "         17: 63,\n",
       "         16: 25,\n",
       "         2: 104,\n",
       "         13: 205,\n",
       "         19: 21,\n",
       "         28: 52,\n",
       "         22: 75,\n",
       "         20: 53,\n",
       "         26: 33,\n",
       "         5: 70,\n",
       "         15: 81,\n",
       "         9: 31,\n",
       "         14: 32,\n",
       "         18: 26,\n",
       "         21: 57})"
      ]
     },
     "execution_count": 371,
     "metadata": {},
     "output_type": "execute_result"
    }
   ],
   "source": [
    "from collections import Counter\n",
    "\n",
    "Counter(km.labels_)  #tells how many documents are going in which cluser"
   ]
  },
  {
   "cell_type": "code",
   "execution_count": 372,
   "id": "5290a674",
   "metadata": {},
   "outputs": [
    {
     "name": "stdout",
     "output_type": "stream",
     "text": [
      "CLUSTER #1\n",
      "Key Features: ['health', 'times', 'paul', 'post', 'india', 'david', 'ravi', 'john', 'neoskeptics', 'philippines']\n",
      "--------------------------------------------------------------------------------\n",
      "CLUSTER #2\n",
      "Key Features: ['joyner', 'nathan joyner', 'nathan', 'erwin', 'explorer', 'express', 'feiglding', 'frank', 'frank west', 'fraser']\n",
      "--------------------------------------------------------------------------------\n",
      "CLUSTER #3\n",
      "Key Features: ['gkay', 'jesus', 'gkay jesus', 'girly', 'george', 'geoffrey norman', 'girly swots', 'geoffrey', 'gee', 'eric feiglding']\n",
      "--------------------------------------------------------------------------------\n",
      "CLUSTER #4\n",
      "Key Features: ['save', 'save democracy', 'democracy', 'zerocovid', 'frank west', 'erwin loh', 'explorer', 'express', 'feiglding', 'frank']\n",
      "--------------------------------------------------------------------------------\n",
      "CLUSTER #5\n",
      "Key Features: ['raj', 'raj rajnarayanan', 'rajnarayanan', 'zerocovid', 'frank', 'eric feiglding', 'erwin', 'erwin loh', 'explorer', 'express']\n",
      "--------------------------------------------------------------------------------\n",
      "CLUSTER #6\n",
      "Key Features: ['ann', 'ann marie', 'marie', 'pincivero', 'marie pincivero', 'fraser', 'express', 'feiglding', 'frank', 'frank west']\n",
      "--------------------------------------------------------------------------------\n",
      "CLUSTER #7\n",
      "Key Features: ['meadows', 'lisa marie', 'lisa', 'marie meadows', 'marie', 'fraser', 'explorer', 'express', 'feiglding', 'frank']\n",
      "--------------------------------------------------------------------------------\n",
      "CLUSTER #8\n",
      "Key Features: ['news', 'english', 'thailand', 'world', 'mumbai', 'alert', 'medical', 'china', 'network', 'global']\n",
      "--------------------------------------------------------------------------------\n",
      "CLUSTER #9\n",
      "Key Features: ['dr', 'thomas wilckens', 'dr thomas', 'wilckens', 'thomas', 'hospital', 'joe', 'nhs', 'david', 'md']\n",
      "--------------------------------------------------------------------------------\n",
      "CLUSTER #10\n",
      "Key Features: ['join twtter', 'last', 'girly', 'swots', 'swots join', 'last girly', 'twtter', 'girly swots', 'join', 'displays llc']\n",
      "--------------------------------------------------------------------------------\n",
      "CLUSTER #11\n",
      "Key Features: ['druider', 'bron druider', 'bron', 'zerocovid', 'erwin loh', 'express', 'feiglding', 'frank', 'frank west', 'fraser']\n",
      "--------------------------------------------------------------------------------\n",
      "CLUSTER #12\n",
      "Key Features: ['gorilla', '39', 'gorilla 39', 'magilla', 'magilla gorilla', 'fraser', 'express', 'feiglding', 'frank', 'frank west']\n",
      "--------------------------------------------------------------------------------\n",
      "CLUSTER #13\n",
      "Key Features: ['news', 'medical', 'news medical', 'zerocovid', 'frank', 'erwin', 'erwin loh', 'explorer', 'express', 'feiglding']\n",
      "--------------------------------------------------------------------------------\n",
      "CLUSTER #14\n",
      "Key Features: ['newsonline', 'zerocovid', 'eric feiglding', 'erwin loh', 'explorer', 'express', 'feiglding', 'frank', 'frank west', 'fraser']\n",
      "--------------------------------------------------------------------------------\n",
      "CLUSTER #15\n",
      "Key Features: ['norman pain', 'geoffrey norman', 'geoffrey', 'pain', 'norman', 'frank', 'erwin', 'erwin loh', 'explorer', 'express']\n",
      "--------------------------------------------------------------------------------\n",
      "CLUSTER #16\n",
      "Key Features: ['bangkok', 'bangkok explorer', 'explorer', 'express', 'feiglding', 'frank', 'frank west', 'fraser', 'fully', 'gee']\n",
      "--------------------------------------------------------------------------------\n",
      "CLUSTER #17\n",
      "Key Features: ['llc', 'buy', 'displays', 'displays llc', 'bulk displays', 'bulk', 'buy bulk', 'frank', 'explorer', 'express']\n",
      "--------------------------------------------------------------------------------\n",
      "CLUSTER #18\n",
      "Key Features: ['business standard', 'business', 'standard', 'frank west', 'erwin loh', 'explorer', 'express', 'feiglding', 'frank', 'zerocovid']\n",
      "--------------------------------------------------------------------------------\n",
      "CLUSTER #19\n",
      "Key Features: ['still air', 'covid19 still', 'stay alert', 'stay', 'alert covid19', 'alert', 'air', 'covid19', 'still', 'dorey']\n",
      "--------------------------------------------------------------------------------\n",
      "CLUSTER #20\n",
      "Key Features: ['nerd', 'herding science', 'cat', 'cat herding', 'herding', 'science', 'science nerd', 'zerocovid', 'erwin', 'erwin loh']\n",
      "--------------------------------------------------------------------------------\n",
      "CLUSTER #21\n",
      "Key Features: ['vega', 'luis', 'luis alejandro', 'alejandro vega', 'alejandro', 'zerocovid', 'explorer', 'express', 'feiglding', 'frank']\n",
      "--------------------------------------------------------------------------------\n",
      "CLUSTER #22\n",
      "Key Features: ['brenda sanchez', 'brenda', 'sanchez', 'fraser', 'erwin loh', 'explorer', 'express', 'feiglding', 'frank', 'frank west']\n",
      "--------------------------------------------------------------------------------\n",
      "CLUSTER #23\n",
      "Key Features: ['bot', 'kyusi bot', 'kyusi', 'zerocovid', 'fraser', 'explorer', 'express', 'feiglding', 'frank', 'frank west']\n",
      "--------------------------------------------------------------------------------\n",
      "CLUSTER #24\n",
      "Key Features: ['tomthunkit', 'eric feiglding', 'erwin', 'erwin loh', 'explorer', 'express', 'feiglding', 'frank', 'frank west', 'zerocovid']\n",
      "--------------------------------------------------------------------------------\n",
      "CLUSTER #25\n",
      "Key Features: ['phd', 'william ku', 'william', 'ku', 'ku phd', 'zerocovid', 'frank west', 'erwin', 'erwin loh', 'explorer']\n",
      "--------------------------------------------------------------------------------\n",
      "CLUSTER #26\n",
      "Key Features: ['straits times', 'new straits', 'times', 'new', 'straits', 'geoffrey', 'gee', 'fully', 'fraser', 'frank west']\n",
      "--------------------------------------------------------------------------------\n",
      "CLUSTER #27\n",
      "Key Features: ['live india', 'live', 'india', 'abc', 'abc live', 'frank west', 'erwin', 'erwin loh', 'explorer', 'express']\n",
      "--------------------------------------------------------------------------------\n",
      "CLUSTER #28\n",
      "Key Features: ['md', 'phd', 'george', 'joe', 'jennifer', 'michael', 'chris', 'brown', 'boosted', 'science']\n",
      "--------------------------------------------------------------------------------\n",
      "CLUSTER #29\n",
      "Key Features: ['china', 'daily', 'china daily', 'daily asia', 'asia', 'hong', 'hong kong', 'kong', 'usa', 'zerocovid']\n",
      "--------------------------------------------------------------------------------\n",
      "CLUSTER #30\n",
      "Key Features: ['global', 'health', 'global health', 'herald', 'business', 'cgtn', 'times', 'network', 'news', 'travel']\n",
      "--------------------------------------------------------------------------------\n"
     ]
    }
   ],
   "source": [
    "feature_names = cv.get_feature_names()\n",
    "topn_features = 10\n",
    "ordered_centroids = km.cluster_centers_.argsort()[:, ::-1]\n",
    "\n",
    "# get key features for each cluster\n",
    "# get movies belonging to each cluster\n",
    "for cluster_num in range(NUM_CLUSTERS):\n",
    "    key_features = [feature_names[index] \n",
    "                        for index in ordered_centroids[cluster_num, :topn_features]]\n",
    "    print('CLUSTER #'+str(cluster_num+1))\n",
    "    print('Key Features:', key_features)\n",
    "    print('-'*80)"
   ]
  },
  {
   "cell_type": "code",
   "execution_count": 369,
   "id": "8691f268",
   "metadata": {},
   "outputs": [
    {
     "name": "stdout",
     "output_type": "stream",
     "text": [
      "[20267.04968908137, 13576.950811712875, 12746.354868383418, 12223.209766071363, 11811.333617199225, 11532.84030004224, 11258.230690153645, 10822.181834232751, 10505.062549537108, 10273.326655385434, 10112.44694679194, 9782.533099263319, 9504.626846600286, 9290.228403937144, 9026.219701330465, 8983.60332043526, 8673.664015325538, 8513.164913898376, 8305.331607711165, 8044.998209936184, 7968.13755844308, 7744.624190779812, 7556.583637730704, 7338.383451178341, 7175.795313700256, 6984.802644869317, 6951.668605829609, 6667.144833228727, 6592.566770352623, 6354.7103369309625, 6474.185670342251, 6124.385424303091, 5986.07213546774, 5931.71312349991, 5810.103208477966, 5713.349471389008, 5623.898191097419, 5517.516947177299, 5390.81756621341, 5351.902365707028, 5209.504013514517, 5139.230184018781, 4977.080139904371, 4860.888345906291, 4854.288632639083, 4767.7796283784155, 4612.400427575104, 4599.907433398564, 4474.662350607088, 4432.537051486457, 4386.055278938422, 4247.176004764808, 4234.35418130191, 4175.222712339791, 4055.912490980064, 3956.581950186932, 3831.1806847628914, 3864.2009292466632, 3787.0355694553477]\n"
     ]
    }
   ],
   "source": [
    "css = [] \n",
    "for i in range(1, 60): \n",
    "    kmeans = KMeans(n_clusters=i, max_iter=10, n_init=20, random_state=42).fit(cv_matrix)\n",
    "    css.append(kmeans.inertia_)\n",
    "print(css)"
   ]
  },
  {
   "cell_type": "code",
   "execution_count": 367,
   "id": "d8695475",
   "metadata": {},
   "outputs": [
    {
     "data": {
      "image/png": "[encoded data removed]",
      "text/plain": [
       "<Figure size 432x288 with 1 Axes>"
      ]
     },
     "metadata": {
      "needs_background": "light"
     },
     "output_type": "display_data"
    }
   ],
   "source": [
    "import matplotlib.pyplot as plt\n",
    "plt.plot(range(1, 60), css)\n",
    "plt.xlabel('Number of clusters')\n",
    "plt.ylabel('CSS') \n",
    "plt.show()"
   ]
  },
  {
   "cell_type": "markdown",
   "id": "a96af8c0",
   "metadata": {},
   "source": [
    "##### Taking at max 10 clusters is optimal for the given dataset as it is clearly visible that after 10 clusters the data is not getting better clustering results"
   ]
  },
  {
   "cell_type": "markdown",
   "id": "6270f14c",
   "metadata": {},
   "source": [
    "# Hashtags Clustering"
   ]
  },
  {
   "cell_type": "code",
   "execution_count": 130,
   "id": "0367b5da",
   "metadata": {},
   "outputs": [],
   "source": [
    "col_list = [\"hashtags\"]\n",
    "hashtag = pd.read_csv(\"D:/study/tutorialPoint/Covid 19 text analysis/omicron.csv\", usecols=col_list)"
   ]
  },
  {
   "cell_type": "code",
   "execution_count": 134,
   "id": "1c57f1a2",
   "metadata": {},
   "outputs": [
    {
     "data": {
      "text/plain": [
       "Sentiment(polarity=0.034214106052050754, subjectivity=0.37065687935253167)"
      ]
     },
     "execution_count": 134,
     "metadata": {},
     "output_type": "execute_result"
    }
   ],
   "source": [
    "hashtag=hashtag\n",
    "\n",
    "hashtag['hashtags'] = hashtag['hashtags'].astype(str)\n",
    "\n",
    "a='. '\n",
    "for i in range(0,len(df1)):\n",
    "    a=a+hashtag['hashtags'][i]\n"
   ]
  },
  {
   "cell_type": "code",
   "execution_count": 135,
   "id": "9a29e590",
   "metadata": {},
   "outputs": [
    {
     "data": {
      "text/plain": [
       "17046"
      ]
     },
     "execution_count": 135,
     "metadata": {},
     "output_type": "execute_result"
    }
   ],
   "source": [
    "norm_corpus_hash = normalize_corpus(list(hashtag['hashtags'])) ##pasing list in the function\n",
    "len(norm_corpus_hash)"
   ]
  },
  {
   "cell_type": "code",
   "execution_count": 136,
   "id": "9ff9773f",
   "metadata": {},
   "outputs": [
    {
     "data": {
      "text/plain": [
       "(17046, 175)"
      ]
     },
     "execution_count": 136,
     "metadata": {},
     "output_type": "execute_result"
    }
   ],
   "source": [
    "cv = CountVectorizer(ngram_range=(1, 2), min_df=20, max_df=0.6) ##collect tokens which have occured more than 10 documents if there is no point\n",
    "cv_matrix = cv.fit_transform(norm_corpus_hash)\n",
    "cv_matrix.shape"
   ]
  },
  {
   "cell_type": "code",
   "execution_count": 373,
   "id": "11286fe1",
   "metadata": {},
   "outputs": [
    {
     "data": {
      "text/plain": [
       "KMeans(max_iter=100, n_clusters=2, n_init=30, random_state=42)"
      ]
     },
     "execution_count": 373,
     "metadata": {},
     "output_type": "execute_result"
    }
   ],
   "source": [
    "from sklearn.cluster import KMeans\n",
    "\n",
    "NUM_CLUSTERS = 2\n",
    "km_hash = KMeans(n_clusters=NUM_CLUSTERS, max_iter=100, n_init=30, random_state=42).fit(cv_matrix)\n",
    "km_hash"
   ]
  },
  {
   "cell_type": "code",
   "execution_count": 374,
   "id": "5235f77b",
   "metadata": {},
   "outputs": [
    {
     "data": {
      "text/plain": [
       "Counter({1: 2632, 0: 14414})"
      ]
     },
     "execution_count": 374,
     "metadata": {},
     "output_type": "execute_result"
    }
   ],
   "source": [
    "Counter(km_hash.labels_)"
   ]
  },
  {
   "cell_type": "code",
   "execution_count": 375,
   "id": "0b000a5e",
   "metadata": {},
   "outputs": [
    {
     "name": "stdout",
     "output_type": "stream",
     "text": [
      "CLUSTER #1\n",
      "Key Features: ['news', 'democracy', 'save', 'save democracy', 'dr', 'tomthunkit', 'newsonline', 'medical', 'marie', 'druider']\n",
      "--------------------------------------------------------------------------------\n",
      "CLUSTER #2\n",
      "Key Features: ['joyner', 'nathan joyner', 'nathan', 'erwin', 'explorer', 'express', 'feiglding', 'frank', 'frank west', 'fraser']\n",
      "--------------------------------------------------------------------------------\n"
     ]
    }
   ],
   "source": [
    "feature_names = cv.get_feature_names()\n",
    "topn_features = 10\n",
    "ordered_centroids = km_hash.cluster_centers_.argsort()[:, ::-1]\n",
    "\n",
    "# get key features for each cluster\n",
    "# get movies belonging to each cluster\n",
    "for cluster_num in range(NUM_CLUSTERS):\n",
    "    key_features = [feature_names[index] \n",
    "                        for index in ordered_centroids[cluster_num, :topn_features]]\n",
    "    print('CLUSTER #'+str(cluster_num+1))\n",
    "    print('Key Features:', key_features)\n",
    "    print('-'*80)"
   ]
  },
  {
   "cell_type": "code",
   "execution_count": 214,
   "id": "3681204f",
   "metadata": {},
   "outputs": [
    {
     "name": "stdout",
     "output_type": "stream",
     "text": [
      "[20267.04968908137, 13576.950811712875, 12746.354868383418, 12191.765977177412, 11811.333617199225, 11525.305073579257, 11145.22293826077]\n"
     ]
    }
   ],
   "source": [
    "css = [] \n",
    "for i in range(1, 8): \n",
    "    kmeans = KMeans(n_clusters=i, max_iter=100, n_init=50, random_state=42).fit(cv_matrix)\n",
    "    css.append(kmeans.inertia_)\n",
    "print(css)"
   ]
  },
  {
   "cell_type": "code",
   "execution_count": 227,
   "id": "0c23fd79",
   "metadata": {},
   "outputs": [
    {
     "data": {
      "image/png": "[encoded data removed]",
      "text/plain": [
       "<Figure size 432x288 with 1 Axes>"
      ]
     },
     "metadata": {
      "needs_background": "light"
     },
     "output_type": "display_data"
    }
   ],
   "source": [
    "import matplotlib.pyplot as plt\n",
    "plt.plot(range(1, 8), css)\n",
    "plt.xlabel('Number of clusters')\n",
    "plt.ylabel('CSS') \n",
    "plt.show()"
   ]
  },
  {
   "cell_type": "markdown",
   "id": "885684c1",
   "metadata": {},
   "source": [
    "#### 4 or 5 clusters will be appropreae for the hashtags data."
   ]
  },
  {
   "cell_type": "markdown",
   "id": "03983433",
   "metadata": {},
   "source": [
    "Geographical Analysis"
   ]
  },
  {
   "cell_type": "code",
   "execution_count": 278,
   "id": "bb6c8a20",
   "metadata": {},
   "outputs": [],
   "source": [
    "col_list = [\"text\", \"user_location\"]\n",
    "loc_rev = pd.read_csv(\"D:/study/tutorialPoint/Covid 19 text analysis/omicron.csv\", usecols=col_list)"
   ]
  },
  {
   "cell_type": "code",
   "execution_count": 279,
   "id": "a5175b50",
   "metadata": {
    "scrolled": true
   },
   "outputs": [
    {
     "data": {
      "text/html": [
       "<div>\n",
       "<style scoped>\n",
       "    .dataframe tbody tr th:only-of-type {\n",
       "        vertical-align: middle;\n",
       "    }\n",
       "\n",
       "    .dataframe tbody tr th {\n",
       "        vertical-align: top;\n",
       "    }\n",
       "\n",
       "    .dataframe thead th {\n",
       "        text-align: right;\n",
       "    }\n",
       "</style>\n",
       "<table border=\"1\" class=\"dataframe\">\n",
       "  <thead>\n",
       "    <tr style=\"text-align: right;\">\n",
       "      <th></th>\n",
       "      <th>user_location</th>\n",
       "      <th>text</th>\n",
       "    </tr>\n",
       "  </thead>\n",
       "  <tbody>\n",
       "    <tr>\n",
       "      <th>0</th>\n",
       "      <td>Los Angeles, CA</td>\n",
       "      <td>Daily US Confirmed Covid Cases by County For M...</td>\n",
       "    </tr>\n",
       "    <tr>\n",
       "      <th>1</th>\n",
       "      <td>Corporate</td>\n",
       "      <td>@Yascha_Mounk #CDC says number of fully #vacci...</td>\n",
       "    </tr>\n",
       "    <tr>\n",
       "      <th>2</th>\n",
       "      <td>Los Angeles, CA</td>\n",
       "      <td>Daily US Confirmed Covid Cases by County For L...</td>\n",
       "    </tr>\n",
       "    <tr>\n",
       "      <th>3</th>\n",
       "      <td>Los Angeles, CA</td>\n",
       "      <td>Daily US Confirmed Covid Cases by County For L...</td>\n",
       "    </tr>\n",
       "    <tr>\n",
       "      <th>4</th>\n",
       "      <td>Bay Shore, NY</td>\n",
       "      <td>With the #Beijing2022 #WinterOlympics already ...</td>\n",
       "    </tr>\n",
       "    <tr>\n",
       "      <th>...</th>\n",
       "      <td>...</td>\n",
       "      <td>...</td>\n",
       "    </tr>\n",
       "    <tr>\n",
       "      <th>17041</th>\n",
       "      <td>Scotland, United Kingdom</td>\n",
       "      <td>As more of us head back into office environmen...</td>\n",
       "    </tr>\n",
       "    <tr>\n",
       "      <th>17042</th>\n",
       "      <td>Auckland Region, New Zealand</td>\n",
       "      <td>After long time it’s such a great feeling to w...</td>\n",
       "    </tr>\n",
       "    <tr>\n",
       "      <th>17043</th>\n",
       "      <td>Plague Island</td>\n",
       "      <td>#NewZealand #LongCovidKids #Masks #ventilation...</td>\n",
       "    </tr>\n",
       "    <tr>\n",
       "      <th>17044</th>\n",
       "      <td>Switzerland &amp; Singapore</td>\n",
       "      <td>Can a patient be co-infected with different #v...</td>\n",
       "    </tr>\n",
       "    <tr>\n",
       "      <th>17045</th>\n",
       "      <td>Washington D.C.</td>\n",
       "      <td>.At #DCYELLOWCAB pay via electronic payments #...</td>\n",
       "    </tr>\n",
       "  </tbody>\n",
       "</table>\n",
       "<p>17046 rows × 2 columns</p>\n",
       "</div>"
      ],
      "text/plain": [
       "                      user_location  \\\n",
       "0                   Los Angeles, CA   \n",
       "1                         Corporate   \n",
       "2                   Los Angeles, CA   \n",
       "3                   Los Angeles, CA   \n",
       "4                     Bay Shore, NY   \n",
       "...                             ...   \n",
       "17041      Scotland, United Kingdom   \n",
       "17042  Auckland Region, New Zealand   \n",
       "17043                 Plague Island   \n",
       "17044       Switzerland & Singapore   \n",
       "17045               Washington D.C.   \n",
       "\n",
       "                                                    text  \n",
       "0      Daily US Confirmed Covid Cases by County For M...  \n",
       "1      @Yascha_Mounk #CDC says number of fully #vacci...  \n",
       "2      Daily US Confirmed Covid Cases by County For L...  \n",
       "3      Daily US Confirmed Covid Cases by County For L...  \n",
       "4      With the #Beijing2022 #WinterOlympics already ...  \n",
       "...                                                  ...  \n",
       "17041  As more of us head back into office environmen...  \n",
       "17042  After long time it’s such a great feeling to w...  \n",
       "17043  #NewZealand #LongCovidKids #Masks #ventilation...  \n",
       "17044  Can a patient be co-infected with different #v...  \n",
       "17045  .At #DCYELLOWCAB pay via electronic payments #...  \n",
       "\n",
       "[17046 rows x 2 columns]"
      ]
     },
     "execution_count": 279,
     "metadata": {},
     "output_type": "execute_result"
    }
   ],
   "source": [
    "loc_rev"
   ]
  },
  {
   "cell_type": "code",
   "execution_count": 280,
   "id": "5595d682",
   "metadata": {},
   "outputs": [
    {
     "data": {
      "text/plain": [
       "Los Angeles, CA                 2658\n",
       "India                            474\n",
       "USA                              325\n",
       "In Your Mind Now                 211\n",
       "Chandigarh                       210\n",
       "                                ... \n",
       "North Kingstown, RI                1\n",
       "Global                             1\n",
       "Kiev                               1\n",
       "Pompano Beach, FL                  1\n",
       "Auckland Region, New Zealand       1\n",
       "Name: user_location, Length: 2474, dtype: int64"
      ]
     },
     "execution_count": 280,
     "metadata": {},
     "output_type": "execute_result"
    }
   ],
   "source": [
    "loc_rev['user_location'].value_counts()"
   ]
  },
  {
   "cell_type": "markdown",
   "id": "5d8ff70d",
   "metadata": {},
   "source": [
    "Selecting a specific location and performing analysis"
   ]
  },
  {
   "cell_type": "code",
   "execution_count": 281,
   "id": "9469bf33",
   "metadata": {},
   "outputs": [],
   "source": [
    "location = \"Los Angeles, CA\"\n",
    "df2 = loc_rev[loc_rev['user_location'] == location]"
   ]
  },
  {
   "cell_type": "code",
   "execution_count": 282,
   "id": "08e052ab",
   "metadata": {},
   "outputs": [
    {
     "data": {
      "text/html": [
       "<div>\n",
       "<style scoped>\n",
       "    .dataframe tbody tr th:only-of-type {\n",
       "        vertical-align: middle;\n",
       "    }\n",
       "\n",
       "    .dataframe tbody tr th {\n",
       "        vertical-align: top;\n",
       "    }\n",
       "\n",
       "    .dataframe thead th {\n",
       "        text-align: right;\n",
       "    }\n",
       "</style>\n",
       "<table border=\"1\" class=\"dataframe\">\n",
       "  <thead>\n",
       "    <tr style=\"text-align: right;\">\n",
       "      <th></th>\n",
       "      <th>user_location</th>\n",
       "      <th>text</th>\n",
       "    </tr>\n",
       "  </thead>\n",
       "  <tbody>\n",
       "    <tr>\n",
       "      <th>0</th>\n",
       "      <td>Los Angeles, CA</td>\n",
       "      <td>Daily US Confirmed Covid Cases by County For M...</td>\n",
       "    </tr>\n",
       "    <tr>\n",
       "      <th>2</th>\n",
       "      <td>Los Angeles, CA</td>\n",
       "      <td>Daily US Confirmed Covid Cases by County For L...</td>\n",
       "    </tr>\n",
       "    <tr>\n",
       "      <th>3</th>\n",
       "      <td>Los Angeles, CA</td>\n",
       "      <td>Daily US Confirmed Covid Cases by County For L...</td>\n",
       "    </tr>\n",
       "    <tr>\n",
       "      <th>7</th>\n",
       "      <td>Los Angeles, CA</td>\n",
       "      <td>Daily US Confirmed Covid Cases by County For K...</td>\n",
       "    </tr>\n",
       "    <tr>\n",
       "      <th>9</th>\n",
       "      <td>Los Angeles, CA</td>\n",
       "      <td>Daily US Confirmed Covid Cases by County For K...</td>\n",
       "    </tr>\n",
       "    <tr>\n",
       "      <th>...</th>\n",
       "      <td>...</td>\n",
       "      <td>...</td>\n",
       "    </tr>\n",
       "    <tr>\n",
       "      <th>15418</th>\n",
       "      <td>Los Angeles, CA</td>\n",
       "      <td>Experts urge US cities and states to prep for ...</td>\n",
       "    </tr>\n",
       "    <tr>\n",
       "      <th>15556</th>\n",
       "      <td>Los Angeles, CA</td>\n",
       "      <td>See how #Omicron and #labor #shortages may aff...</td>\n",
       "    </tr>\n",
       "    <tr>\n",
       "      <th>16288</th>\n",
       "      <td>Los Angeles, CA</td>\n",
       "      <td>Been a while since we've taken a real vacation...</td>\n",
       "    </tr>\n",
       "    <tr>\n",
       "      <th>16511</th>\n",
       "      <td>Los Angeles, CA</td>\n",
       "      <td>This is irresponsible coverage ⁦@CNN⁩. HK migh...</td>\n",
       "    </tr>\n",
       "    <tr>\n",
       "      <th>16698</th>\n",
       "      <td>Los Angeles, CA</td>\n",
       "      <td>This guy is a world-class a-hole.\\n@RonDeSanti...</td>\n",
       "    </tr>\n",
       "  </tbody>\n",
       "</table>\n",
       "<p>2658 rows × 2 columns</p>\n",
       "</div>"
      ],
      "text/plain": [
       "         user_location                                               text\n",
       "0      Los Angeles, CA  Daily US Confirmed Covid Cases by County For M...\n",
       "2      Los Angeles, CA  Daily US Confirmed Covid Cases by County For L...\n",
       "3      Los Angeles, CA  Daily US Confirmed Covid Cases by County For L...\n",
       "7      Los Angeles, CA  Daily US Confirmed Covid Cases by County For K...\n",
       "9      Los Angeles, CA  Daily US Confirmed Covid Cases by County For K...\n",
       "...                ...                                                ...\n",
       "15418  Los Angeles, CA  Experts urge US cities and states to prep for ...\n",
       "15556  Los Angeles, CA  See how #Omicron and #labor #shortages may aff...\n",
       "16288  Los Angeles, CA  Been a while since we've taken a real vacation...\n",
       "16511  Los Angeles, CA  This is irresponsible coverage ⁦@CNN⁩. HK migh...\n",
       "16698  Los Angeles, CA  This guy is a world-class a-hole.\\n@RonDeSanti...\n",
       "\n",
       "[2658 rows x 2 columns]"
      ]
     },
     "execution_count": 282,
     "metadata": {},
     "output_type": "execute_result"
    }
   ],
   "source": [
    "df2"
   ]
  },
  {
   "cell_type": "code",
   "execution_count": 283,
   "id": "1def65e1",
   "metadata": {},
   "outputs": [
    {
     "data": {
      "text/plain": [
       "0        Los Angeles, CA\n",
       "2        Los Angeles, CA\n",
       "3        Los Angeles, CA\n",
       "7        Los Angeles, CA\n",
       "9        Los Angeles, CA\n",
       "              ...       \n",
       "15418    Los Angeles, CA\n",
       "15556    Los Angeles, CA\n",
       "16288    Los Angeles, CA\n",
       "16511    Los Angeles, CA\n",
       "16698    Los Angeles, CA\n",
       "Name: user_location, Length: 2658, dtype: object"
      ]
     },
     "execution_count": 283,
     "metadata": {},
     "output_type": "execute_result"
    }
   ],
   "source": [
    "df2.pop('user_location')"
   ]
  },
  {
   "cell_type": "code",
   "execution_count": 296,
   "id": "8480d140",
   "metadata": {},
   "outputs": [
    {
     "data": {
      "text/html": [
       "<div>\n",
       "<style scoped>\n",
       "    .dataframe tbody tr th:only-of-type {\n",
       "        vertical-align: middle;\n",
       "    }\n",
       "\n",
       "    .dataframe tbody tr th {\n",
       "        vertical-align: top;\n",
       "    }\n",
       "\n",
       "    .dataframe thead th {\n",
       "        text-align: right;\n",
       "    }\n",
       "</style>\n",
       "<table border=\"1\" class=\"dataframe\">\n",
       "  <thead>\n",
       "    <tr style=\"text-align: right;\">\n",
       "      <th></th>\n",
       "      <th>text</th>\n",
       "    </tr>\n",
       "  </thead>\n",
       "  <tbody>\n",
       "    <tr>\n",
       "      <th>0</th>\n",
       "      <td>Daily US Confirmed Covid Cases by County For M...</td>\n",
       "    </tr>\n",
       "    <tr>\n",
       "      <th>2</th>\n",
       "      <td>Daily US Confirmed Covid Cases by County For L...</td>\n",
       "    </tr>\n",
       "    <tr>\n",
       "      <th>3</th>\n",
       "      <td>Daily US Confirmed Covid Cases by County For L...</td>\n",
       "    </tr>\n",
       "    <tr>\n",
       "      <th>7</th>\n",
       "      <td>Daily US Confirmed Covid Cases by County For K...</td>\n",
       "    </tr>\n",
       "    <tr>\n",
       "      <th>9</th>\n",
       "      <td>Daily US Confirmed Covid Cases by County For K...</td>\n",
       "    </tr>\n",
       "    <tr>\n",
       "      <th>...</th>\n",
       "      <td>...</td>\n",
       "    </tr>\n",
       "    <tr>\n",
       "      <th>15418</th>\n",
       "      <td>Experts urge US cities and states to prep for ...</td>\n",
       "    </tr>\n",
       "    <tr>\n",
       "      <th>15556</th>\n",
       "      <td>See how #Omicron and #labor #shortages may aff...</td>\n",
       "    </tr>\n",
       "    <tr>\n",
       "      <th>16288</th>\n",
       "      <td>Been a while since we've taken a real vacation...</td>\n",
       "    </tr>\n",
       "    <tr>\n",
       "      <th>16511</th>\n",
       "      <td>This is irresponsible coverage ⁦@CNN⁩. HK migh...</td>\n",
       "    </tr>\n",
       "    <tr>\n",
       "      <th>16698</th>\n",
       "      <td>This guy is a world-class a-hole.\\n@RonDeSanti...</td>\n",
       "    </tr>\n",
       "  </tbody>\n",
       "</table>\n",
       "<p>2658 rows × 1 columns</p>\n",
       "</div>"
      ],
      "text/plain": [
       "                                                    text\n",
       "0      Daily US Confirmed Covid Cases by County For M...\n",
       "2      Daily US Confirmed Covid Cases by County For L...\n",
       "3      Daily US Confirmed Covid Cases by County For L...\n",
       "7      Daily US Confirmed Covid Cases by County For K...\n",
       "9      Daily US Confirmed Covid Cases by County For K...\n",
       "...                                                  ...\n",
       "15418  Experts urge US cities and states to prep for ...\n",
       "15556  See how #Omicron and #labor #shortages may aff...\n",
       "16288  Been a while since we've taken a real vacation...\n",
       "16511  This is irresponsible coverage ⁦@CNN⁩. HK migh...\n",
       "16698  This guy is a world-class a-hole.\\n@RonDeSanti...\n",
       "\n",
       "[2658 rows x 1 columns]"
      ]
     },
     "execution_count": 296,
     "metadata": {},
     "output_type": "execute_result"
    }
   ],
   "source": [
    "df2"
   ]
  },
  {
   "cell_type": "code",
   "execution_count": 299,
   "id": "e051f261",
   "metadata": {},
   "outputs": [],
   "source": [
    "df2 = df2.reset_index()"
   ]
  },
  {
   "cell_type": "code",
   "execution_count": 300,
   "id": "1fcadd11",
   "metadata": {},
   "outputs": [
    {
     "data": {
      "text/html": [
       "<div>\n",
       "<style scoped>\n",
       "    .dataframe tbody tr th:only-of-type {\n",
       "        vertical-align: middle;\n",
       "    }\n",
       "\n",
       "    .dataframe tbody tr th {\n",
       "        vertical-align: top;\n",
       "    }\n",
       "\n",
       "    .dataframe thead th {\n",
       "        text-align: right;\n",
       "    }\n",
       "</style>\n",
       "<table border=\"1\" class=\"dataframe\">\n",
       "  <thead>\n",
       "    <tr style=\"text-align: right;\">\n",
       "      <th></th>\n",
       "      <th>index</th>\n",
       "      <th>text</th>\n",
       "    </tr>\n",
       "  </thead>\n",
       "  <tbody>\n",
       "    <tr>\n",
       "      <th>0</th>\n",
       "      <td>0</td>\n",
       "      <td>Daily US Confirmed Covid Cases by County For M...</td>\n",
       "    </tr>\n",
       "    <tr>\n",
       "      <th>1</th>\n",
       "      <td>2</td>\n",
       "      <td>Daily US Confirmed Covid Cases by County For L...</td>\n",
       "    </tr>\n",
       "    <tr>\n",
       "      <th>2</th>\n",
       "      <td>3</td>\n",
       "      <td>Daily US Confirmed Covid Cases by County For L...</td>\n",
       "    </tr>\n",
       "    <tr>\n",
       "      <th>3</th>\n",
       "      <td>7</td>\n",
       "      <td>Daily US Confirmed Covid Cases by County For K...</td>\n",
       "    </tr>\n",
       "    <tr>\n",
       "      <th>4</th>\n",
       "      <td>9</td>\n",
       "      <td>Daily US Confirmed Covid Cases by County For K...</td>\n",
       "    </tr>\n",
       "    <tr>\n",
       "      <th>...</th>\n",
       "      <td>...</td>\n",
       "      <td>...</td>\n",
       "    </tr>\n",
       "    <tr>\n",
       "      <th>2653</th>\n",
       "      <td>15418</td>\n",
       "      <td>Experts urge US cities and states to prep for ...</td>\n",
       "    </tr>\n",
       "    <tr>\n",
       "      <th>2654</th>\n",
       "      <td>15556</td>\n",
       "      <td>See how #Omicron and #labor #shortages may aff...</td>\n",
       "    </tr>\n",
       "    <tr>\n",
       "      <th>2655</th>\n",
       "      <td>16288</td>\n",
       "      <td>Been a while since we've taken a real vacation...</td>\n",
       "    </tr>\n",
       "    <tr>\n",
       "      <th>2656</th>\n",
       "      <td>16511</td>\n",
       "      <td>This is irresponsible coverage ⁦@CNN⁩. HK migh...</td>\n",
       "    </tr>\n",
       "    <tr>\n",
       "      <th>2657</th>\n",
       "      <td>16698</td>\n",
       "      <td>This guy is a world-class a-hole.\\n@RonDeSanti...</td>\n",
       "    </tr>\n",
       "  </tbody>\n",
       "</table>\n",
       "<p>2658 rows × 2 columns</p>\n",
       "</div>"
      ],
      "text/plain": [
       "      index                                               text\n",
       "0         0  Daily US Confirmed Covid Cases by County For M...\n",
       "1         2  Daily US Confirmed Covid Cases by County For L...\n",
       "2         3  Daily US Confirmed Covid Cases by County For L...\n",
       "3         7  Daily US Confirmed Covid Cases by County For K...\n",
       "4         9  Daily US Confirmed Covid Cases by County For K...\n",
       "...     ...                                                ...\n",
       "2653  15418  Experts urge US cities and states to prep for ...\n",
       "2654  15556  See how #Omicron and #labor #shortages may aff...\n",
       "2655  16288  Been a while since we've taken a real vacation...\n",
       "2656  16511  This is irresponsible coverage ⁦@CNN⁩. HK migh...\n",
       "2657  16698  This guy is a world-class a-hole.\\n@RonDeSanti...\n",
       "\n",
       "[2658 rows x 2 columns]"
      ]
     },
     "execution_count": 300,
     "metadata": {},
     "output_type": "execute_result"
    }
   ],
   "source": [
    "df2"
   ]
  },
  {
   "cell_type": "code",
   "execution_count": 301,
   "id": "b8ab53a7",
   "metadata": {},
   "outputs": [
    {
     "data": {
      "text/plain": [
       "0           0\n",
       "1           2\n",
       "2           3\n",
       "3           7\n",
       "4           9\n",
       "        ...  \n",
       "2653    15418\n",
       "2654    15556\n",
       "2655    16288\n",
       "2656    16511\n",
       "2657    16698\n",
       "Name: index, Length: 2658, dtype: int64"
      ]
     },
     "execution_count": 301,
     "metadata": {},
     "output_type": "execute_result"
    }
   ],
   "source": [
    "df2.pop(\"index\")"
   ]
  },
  {
   "cell_type": "code",
   "execution_count": 302,
   "id": "a5f0155c",
   "metadata": {},
   "outputs": [
    {
     "data": {
      "text/plain": [
       "Sentiment(polarity=0.38053181694596133, subjectivity=0.9384141755471285)"
      ]
     },
     "execution_count": 302,
     "metadata": {},
     "output_type": "execute_result"
    }
   ],
   "source": [
    "df1=df2\n",
    "\n",
    "df1['text'] = df1['text'].astype(str)\n",
    "\n",
    "a='. '\n",
    "for i in range(0,len(df1)):\n",
    "    a=a+df2['text'][i]\n",
    "\n",
    "blob = TextBlob(a)\n",
    "blob.sentiment "
   ]
  },
  {
   "cell_type": "code",
   "execution_count": 312,
   "id": "1b62cce4",
   "metadata": {},
   "outputs": [
    {
     "name": "stdout",
     "output_type": "stream",
     "text": [
      "(1860, 1)\n",
      "(798, 1)\n",
      "[[0. 0. 1. ... 0. 0. 1.]\n",
      " [0. 1. 0. ... 0. 0. 0.]\n",
      " [0. 0. 1. ... 0. 0. 0.]\n",
      " ...\n",
      " [1. 0. 0. ... 0. 1. 0.]\n",
      " [0. 1. 0. ... 0. 0. 0.]\n",
      " [0. 0. 1. ... 0. 0. 0.]]\n",
      "[[0.36753824 0.03361384 0.53123624 0.03413509 0.03347659]\n",
      " [0.39073042 0.04001719 0.04063091 0.04047148 0.48815001]\n",
      " [0.03364491 0.0335202  0.86427901 0.03409607 0.0344598 ]\n",
      " ...\n",
      " [0.03369745 0.86588153 0.03365835 0.03342111 0.03334156]\n",
      " [0.39073042 0.04001719 0.04063091 0.04047148 0.48815001]\n",
      " [0.04164483 0.04030786 0.83676158 0.04041005 0.04087569]]\n",
      "[[2.69797946e-01 2.81605293e+02 3.57562513e-01 3.65335159e+01\n",
      "  3.98492864e-01 3.14174188e-01 2.83579813e-01 3.34368342e+02\n",
      "  2.90981435e-01 1.30372426e+02 2.30379422e+02 3.11314091e-01\n",
      "  3.66456062e+01 2.84507729e-01 7.94543056e-01 2.77713844e-01\n",
      "  1.74537959e+02]\n",
      " [1.42713664e+02 7.74150789e-01 1.53945037e+02 2.95080896e-01\n",
      "  2.75233483e-01 2.16985441e+00 1.39244762e+02 1.08786431e+01\n",
      "  3.08527865e+02 4.99993504e-01 1.48304054e+02 1.70198787e+02\n",
      "  2.67873277e-01 1.49011058e+02 1.38177401e+02 1.29931209e+02\n",
      "  7.47667343e+00]\n",
      " [2.76679307e-01 3.60502594e-01 4.68456857e+02 2.11641853e+02\n",
      "  1.97507483e+02 1.34738401e+02 2.87042089e-01 1.94921117e+02\n",
      "  3.13175037e-01 2.15871407e+02 3.36130818e+02 2.98439115e-01\n",
      "  2.11613874e+02 2.72947579e-01 5.92163786e-01 2.80574616e-01\n",
      "  9.86257779e+00]\n",
      " [8.95779172e+01 8.13395436e-01 3.41748892e+02 3.13230684e+02\n",
      "  3.04652699e+02 1.72610881e+02 4.67859868e-01 1.31516167e+02\n",
      "  1.05325717e+00 2.20193793e+00 9.31853665e-01 2.81505429e-01\n",
      "  8.01772058e-01 1.27983290e+02 4.72666894e+02 2.82402795e-01\n",
      "  2.76533302e-01]\n",
      " [4.71182118e-01 1.08689519e+02 7.56420628e+01 1.59344238e+02\n",
      "  2.23307505e+02 4.77169825e-01 4.79891840e-01 7.12617103e+00\n",
      "  6.81091276e-01 2.02613767e+02 3.40545323e+00 8.44170664e-01\n",
      "  3.06852824e+00 2.77159235e-01 4.00169574e-01 2.68851352e-01\n",
      "  2.65270463e-01]]\n"
     ]
    }
   ],
   "source": [
    "X_laTrain, X_laHold = train_test_split(df2, test_size=0.3, random_state=111)\n",
    "print(X_laTrain.shape)\n",
    "print(X_laHold.shape)\n",
    "\n",
    "vectorizer_tf = TfidfVectorizer(tokenizer=tokenize, max_df=0.7, min_df=100 , max_features=10000, use_idf=False, norm=None) ##if words occur in less than 50 docs remove that word\n",
    "tf_laVectors = vectorizer_tf.fit_transform(X_laTrain.text)    \n",
    "###idf is false then it wont take idf therefore it will run on count vectorization\n",
    "\n",
    "print(tf_laVectors.A)\n",
    "\n",
    "lda = decomposition.LatentDirichletAllocation(n_components=5, max_iter=3, learning_method='online', learning_offset=50, n_jobs=-1, random_state=111)\n",
    "##similar like pca and reduced dimensions to 6\n",
    "WN1 = lda.fit_transform(tf_laVectors)\n",
    "HN1 = lda.components_\n",
    "\n",
    "print(WN1)\n",
    "print(HN1)\n",
    "\n",
    "vocab = np.array(vectorizer_tf.get_feature_names())\n",
    "\n",
    "top_laWords = lambda t: [vocab[i] for i in np.argsort(t)[:-num_words-1:-1]]\n",
    "topic_laWords = ([top_laWords(t) for t in HN1])\n",
    "LA_topics = [' '.join(t) for t in topic_laWords]"
   ]
  },
  {
   "cell_type": "code",
   "execution_count": 310,
   "id": "9c498183",
   "metadata": {},
   "outputs": [
    {
     "data": {
      "text/plain": [
       "['deaths 2022-02-10 population usa… growth tea… cases usafacts… confirmed 2022-02-14 daily state distribution total death',\n",
       " 'distribution state 2022-02-14 total population 2022-02-08 death usafacts… usafac… deaths usa… daily 2022-02-10 growth cases',\n",
       " '2022-02-14 population growth cases tea… confirmed deaths daily usa… usafacts… 2022-02-10 distribution state death usafac…',\n",
       " 'usafacts… 2022-02-14 cases confirmed daily deaths total 2022-02-08 growth distribution population 2022-02-10 tea… death usafac…',\n",
       " 'confirmed growth cases 2022-02-10 2022-02-14 deaths population tea… state distribution death daily 2022-02-08 usafacts… total']"
      ]
     },
     "execution_count": 310,
     "metadata": {},
     "output_type": "execute_result"
    }
   ],
   "source": [
    "LA_topics"
   ]
  },
  {
   "cell_type": "code",
   "execution_count": 314,
   "id": "a27a1b10",
   "metadata": {},
   "outputs": [],
   "source": [
    "colnames = [\"Topic\" + str(i) for i in range(lda.n_components)]\n",
    "docnames = [\"Doc\" + str(i) for i in range(len(X_laTrain.text))]\n",
    "df_doc_LaTopic = pd.DataFrame(np.round(WN1, 2), columns=colnames, index=docnames)\n",
    "significant_la_topic = np.argmax(df_doc_LaTopic.values, axis=1)\n",
    "df_doc_LaTopic['dominant_topic'] = significant_la_topic"
   ]
  },
  {
   "cell_type": "code",
   "execution_count": 315,
   "id": "209ac45a",
   "metadata": {},
   "outputs": [
    {
     "name": "stdout",
     "output_type": "stream",
     "text": [
      "         Topic0  Topic1  Topic2  Topic3  Topic4  dominant_topic\n",
      "Doc0       0.37    0.03    0.53    0.03    0.03               2\n",
      "Doc1       0.39    0.04    0.04    0.04    0.49               4\n",
      "Doc2       0.03    0.03    0.86    0.03    0.03               2\n",
      "Doc3       0.84    0.04    0.04    0.04    0.04               0\n",
      "Doc4       0.03    0.03    0.86    0.03    0.03               2\n",
      "...         ...     ...     ...     ...     ...             ...\n",
      "Doc1855    0.03    0.87    0.03    0.03    0.03               1\n",
      "Doc1856    0.39    0.04    0.04    0.04    0.49               4\n",
      "Doc1857    0.03    0.87    0.03    0.03    0.03               1\n",
      "Doc1858    0.39    0.04    0.04    0.04    0.49               4\n",
      "Doc1859    0.04    0.04    0.84    0.04    0.04               2\n",
      "\n",
      "[1860 rows x 6 columns]\n"
     ]
    }
   ],
   "source": [
    "print(df_doc_LaTopic)"
   ]
  },
  {
   "cell_type": "code",
   "execution_count": 316,
   "id": "301fc50f",
   "metadata": {
    "scrolled": true
   },
   "outputs": [
    {
     "data": {
      "text/plain": [
       "2    522\n",
       "3    476\n",
       "1    329\n",
       "0    279\n",
       "4    254\n",
       "Name: dominant_topic, dtype: int64"
      ]
     },
     "execution_count": 316,
     "metadata": {},
     "output_type": "execute_result"
    }
   ],
   "source": [
    "df_doc_LaTopic['dominant_topic'].value_counts()"
   ]
  },
  {
   "cell_type": "markdown",
   "id": "3ad3a457",
   "metadata": {},
   "source": [
    "User Details"
   ]
  },
  {
   "cell_type": "code",
   "execution_count": 342,
   "id": "253c1e8d",
   "metadata": {},
   "outputs": [
    {
     "data": {
      "text/html": [
       "<div>\n",
       "<style scoped>\n",
       "    .dataframe tbody tr th:only-of-type {\n",
       "        vertical-align: middle;\n",
       "    }\n",
       "\n",
       "    .dataframe tbody tr th {\n",
       "        vertical-align: top;\n",
       "    }\n",
       "\n",
       "    .dataframe thead th {\n",
       "        text-align: right;\n",
       "    }\n",
       "</style>\n",
       "<table border=\"1\" class=\"dataframe\">\n",
       "  <thead>\n",
       "    <tr style=\"text-align: right;\">\n",
       "      <th></th>\n",
       "      <th>user_name</th>\n",
       "      <th>text</th>\n",
       "    </tr>\n",
       "  </thead>\n",
       "  <tbody>\n",
       "    <tr>\n",
       "      <th>0</th>\n",
       "      <td>Nathan Joyner</td>\n",
       "      <td>Daily US Confirmed Covid Cases by County For M...</td>\n",
       "    </tr>\n",
       "    <tr>\n",
       "      <th>1</th>\n",
       "      <td>Gatherer Thompson</td>\n",
       "      <td>@Yascha_Mounk #CDC says number of fully #vacci...</td>\n",
       "    </tr>\n",
       "    <tr>\n",
       "      <th>2</th>\n",
       "      <td>Nathan Joyner</td>\n",
       "      <td>Daily US Confirmed Covid Cases by County For L...</td>\n",
       "    </tr>\n",
       "    <tr>\n",
       "      <th>3</th>\n",
       "      <td>Nathan Joyner</td>\n",
       "      <td>Daily US Confirmed Covid Cases by County For L...</td>\n",
       "    </tr>\n",
       "    <tr>\n",
       "      <th>4</th>\n",
       "      <td>Brownyard Group</td>\n",
       "      <td>With the #Beijing2022 #WinterOlympics already ...</td>\n",
       "    </tr>\n",
       "    <tr>\n",
       "      <th>...</th>\n",
       "      <td>...</td>\n",
       "      <td>...</td>\n",
       "    </tr>\n",
       "    <tr>\n",
       "      <th>17041</th>\n",
       "      <td>Self Clean Solutions</td>\n",
       "      <td>As more of us head back into office environmen...</td>\n",
       "    </tr>\n",
       "    <tr>\n",
       "      <th>17042</th>\n",
       "      <td>Kuldip Patel</td>\n",
       "      <td>After long time it’s such a great feeling to w...</td>\n",
       "    </tr>\n",
       "    <tr>\n",
       "      <th>17043</th>\n",
       "      <td>Dr Asad Khan FRCP FRACP 🇵🇸🇳🇿🇮🇳🇬🇧#FBLC</td>\n",
       "      <td>#NewZealand #LongCovidKids #Masks #ventilation...</td>\n",
       "    </tr>\n",
       "    <tr>\n",
       "      <th>17044</th>\n",
       "      <td>Dr. Melvin Sanicas | #GetVaccinated</td>\n",
       "      <td>Can a patient be co-infected with different #v...</td>\n",
       "    </tr>\n",
       "    <tr>\n",
       "      <th>17045</th>\n",
       "      <td>Yellow Cab of D.C.</td>\n",
       "      <td>.At #DCYELLOWCAB pay via electronic payments #...</td>\n",
       "    </tr>\n",
       "  </tbody>\n",
       "</table>\n",
       "<p>17046 rows × 2 columns</p>\n",
       "</div>"
      ],
      "text/plain": [
       "                                   user_name  \\\n",
       "0                              Nathan Joyner   \n",
       "1                          Gatherer Thompson   \n",
       "2                              Nathan Joyner   \n",
       "3                              Nathan Joyner   \n",
       "4                            Brownyard Group   \n",
       "...                                      ...   \n",
       "17041                   Self Clean Solutions   \n",
       "17042                           Kuldip Patel   \n",
       "17043  Dr Asad Khan FRCP FRACP 🇵🇸🇳🇿🇮🇳🇬🇧#FBLC   \n",
       "17044    Dr. Melvin Sanicas | #GetVaccinated   \n",
       "17045                     Yellow Cab of D.C.   \n",
       "\n",
       "                                                    text  \n",
       "0      Daily US Confirmed Covid Cases by County For M...  \n",
       "1      @Yascha_Mounk #CDC says number of fully #vacci...  \n",
       "2      Daily US Confirmed Covid Cases by County For L...  \n",
       "3      Daily US Confirmed Covid Cases by County For L...  \n",
       "4      With the #Beijing2022 #WinterOlympics already ...  \n",
       "...                                                  ...  \n",
       "17041  As more of us head back into office environmen...  \n",
       "17042  After long time it’s such a great feeling to w...  \n",
       "17043  #NewZealand #LongCovidKids #Masks #ventilation...  \n",
       "17044  Can a patient be co-infected with different #v...  \n",
       "17045  .At #DCYELLOWCAB pay via electronic payments #...  \n",
       "\n",
       "[17046 rows x 2 columns]"
      ]
     },
     "execution_count": 342,
     "metadata": {},
     "output_type": "execute_result"
    }
   ],
   "source": [
    "col_list = [\"text\", \"user_name\"]\n",
    "user_rev = pd.read_csv(\"D:/study/tutorialPoint/Covid 19 text analysis/omicron.csv\", usecols=col_list)\n",
    "\n",
    "user_rev"
   ]
  },
  {
   "cell_type": "code",
   "execution_count": 343,
   "id": "eb553fa2",
   "metadata": {},
   "outputs": [
    {
     "data": {
      "text/plain": [
       "Nathan Joyner                   2632\n",
       "save DEMOCRACY                   282\n",
       "Tomthunkit™                      211\n",
       "Newsonline                       205\n",
       "bron druider                     156\n",
       "                                ... \n",
       "Time Of India                      1\n",
       "RestaurantOwner                    1\n",
       "Pandemic-Aid Networks              1\n",
       "Lieutenant General Ron Place       1\n",
       "Kuldip Patel                       1\n",
       "Name: user_name, Length: 6012, dtype: int64"
      ]
     },
     "execution_count": 343,
     "metadata": {},
     "output_type": "execute_result"
    }
   ],
   "source": [
    "user_rev['user_name'].value_counts()"
   ]
  },
  {
   "cell_type": "code",
   "execution_count": 344,
   "id": "68f70c02",
   "metadata": {},
   "outputs": [
    {
     "data": {
      "text/html": [
       "<div>\n",
       "<style scoped>\n",
       "    .dataframe tbody tr th:only-of-type {\n",
       "        vertical-align: middle;\n",
       "    }\n",
       "\n",
       "    .dataframe tbody tr th {\n",
       "        vertical-align: top;\n",
       "    }\n",
       "\n",
       "    .dataframe thead th {\n",
       "        text-align: right;\n",
       "    }\n",
       "</style>\n",
       "<table border=\"1\" class=\"dataframe\">\n",
       "  <thead>\n",
       "    <tr style=\"text-align: right;\">\n",
       "      <th></th>\n",
       "      <th>index</th>\n",
       "      <th>text</th>\n",
       "    </tr>\n",
       "  </thead>\n",
       "  <tbody>\n",
       "    <tr>\n",
       "      <th>0</th>\n",
       "      <td>268</td>\n",
       "      <td>DON’T SURRENDER TO #OMICRON\\nJust bc you belie...</td>\n",
       "    </tr>\n",
       "    <tr>\n",
       "      <th>1</th>\n",
       "      <td>358</td>\n",
       "      <td>WHAT HE SAID…\\nI’ll give it to you straight, a...</td>\n",
       "    </tr>\n",
       "    <tr>\n",
       "      <th>2</th>\n",
       "      <td>453</td>\n",
       "      <td>NIH Director Dr. Collins agrees with my analys...</td>\n",
       "    </tr>\n",
       "    <tr>\n",
       "      <th>3</th>\n",
       "      <td>484</td>\n",
       "      <td>2 IS NOT ENOUGH \\nVaccines effectiveness estim...</td>\n",
       "    </tr>\n",
       "    <tr>\n",
       "      <th>4</th>\n",
       "      <td>494</td>\n",
       "      <td>NIH Director Dr. Collins agrees with my analys...</td>\n",
       "    </tr>\n",
       "    <tr>\n",
       "      <th>...</th>\n",
       "      <td>...</td>\n",
       "      <td>...</td>\n",
       "    </tr>\n",
       "    <tr>\n",
       "      <th>277</th>\n",
       "      <td>16933</td>\n",
       "      <td>2 IS NOT ENOUGH \\nVaccines effectiveness estim...</td>\n",
       "    </tr>\n",
       "    <tr>\n",
       "      <th>278</th>\n",
       "      <td>16935</td>\n",
       "      <td>Keep looking at NY as the indicator for what's...</td>\n",
       "    </tr>\n",
       "    <tr>\n",
       "      <th>279</th>\n",
       "      <td>16958</td>\n",
       "      <td>DON’T SURRENDER TO #OMICRON\\nJust bc you belie...</td>\n",
       "    </tr>\n",
       "    <tr>\n",
       "      <th>280</th>\n",
       "      <td>17032</td>\n",
       "      <td>DON’T SURRENDER TO #OMICRON\\nJust bc you belie...</td>\n",
       "    </tr>\n",
       "    <tr>\n",
       "      <th>281</th>\n",
       "      <td>17033</td>\n",
       "      <td>WHAT HE SAID…\\nI’ll give it to you straight, a...</td>\n",
       "    </tr>\n",
       "  </tbody>\n",
       "</table>\n",
       "<p>282 rows × 2 columns</p>\n",
       "</div>"
      ],
      "text/plain": [
       "     index                                               text\n",
       "0      268  DON’T SURRENDER TO #OMICRON\\nJust bc you belie...\n",
       "1      358  WHAT HE SAID…\\nI’ll give it to you straight, a...\n",
       "2      453  NIH Director Dr. Collins agrees with my analys...\n",
       "3      484  2 IS NOT ENOUGH \\nVaccines effectiveness estim...\n",
       "4      494  NIH Director Dr. Collins agrees with my analys...\n",
       "..     ...                                                ...\n",
       "277  16933  2 IS NOT ENOUGH \\nVaccines effectiveness estim...\n",
       "278  16935  Keep looking at NY as the indicator for what's...\n",
       "279  16958  DON’T SURRENDER TO #OMICRON\\nJust bc you belie...\n",
       "280  17032  DON’T SURRENDER TO #OMICRON\\nJust bc you belie...\n",
       "281  17033  WHAT HE SAID…\\nI’ll give it to you straight, a...\n",
       "\n",
       "[282 rows x 2 columns]"
      ]
     },
     "execution_count": 344,
     "metadata": {},
     "output_type": "execute_result"
    }
   ],
   "source": [
    "user = \"save DEMOCRACY\"\n",
    "df2 = user_rev[user_rev['user_name'] == user]\n",
    "\n",
    "df2.pop(\"user_name\")\n",
    "\n",
    "df2 = df2.reset_index()\n",
    "\n",
    "df2"
   ]
  },
  {
   "cell_type": "code",
   "execution_count": 345,
   "id": "a4cf71aa",
   "metadata": {},
   "outputs": [
    {
     "data": {
      "text/plain": [
       "Sentiment(polarity=0.07034834324553949, subjectivity=0.5267063154913634)"
      ]
     },
     "execution_count": 345,
     "metadata": {},
     "output_type": "execute_result"
    }
   ],
   "source": [
    "df1=df2\n",
    "\n",
    "df1['text'] = df1['text'].astype(str)\n",
    "\n",
    "a='. '\n",
    "for i in range(0,len(df1)):\n",
    "    a=a+df2['text'][i]\n",
    "\n",
    "blob = TextBlob(a)\n",
    "blob.sentiment "
   ]
  },
  {
   "cell_type": "code",
   "execution_count": 358,
   "id": "c3225980",
   "metadata": {
    "scrolled": false
   },
   "outputs": [
    {
     "name": "stdout",
     "output_type": "stream",
     "text": [
      "(197, 2)\n",
      "(85, 2)\n",
      "[[0. 0. 1. ... 0. 0. 0.]\n",
      " [0. 0. 1. ... 0. 0. 0.]\n",
      " [0. 0. 0. ... 0. 0. 0.]\n",
      " ...\n",
      " [0. 0. 1. ... 0. 0. 0.]\n",
      " [0. 0. 0. ... 1. 0. 0.]\n",
      " [0. 1. 0. ... 0. 1. 0.]]\n",
      "[[0.75072584 0.13517663 0.11409753]\n",
      " [0.75072584 0.13517663 0.11409753]\n",
      " [0.16684283 0.1668335  0.66632366]\n",
      " [0.93733824 0.03081182 0.03184993]\n",
      " [0.93733824 0.03081182 0.03184993]\n",
      " [0.04185278 0.9151883  0.04295892]\n",
      " [0.02745373 0.94623276 0.0263135 ]\n",
      " [0.93733824 0.03081182 0.03184993]\n",
      " [0.02745373 0.94623276 0.0263135 ]\n",
      " [0.93733824 0.03081182 0.03184993]\n",
      " [0.02745373 0.94623276 0.0263135 ]\n",
      " [0.11520581 0.11125073 0.77354346]\n",
      " [0.75072584 0.13517663 0.11409753]\n",
      " [0.93733824 0.03081182 0.03184993]\n",
      " [0.16684283 0.1668335  0.66632366]\n",
      " [0.93733824 0.03081182 0.03184993]\n",
      " [0.16684283 0.1668335  0.66632366]\n",
      " [0.02745373 0.94623276 0.0263135 ]\n",
      " [0.16684283 0.1668335  0.66632366]\n",
      " [0.16684283 0.1668335  0.66632366]\n",
      " [0.75072584 0.13517663 0.11409753]\n",
      " [0.93733824 0.03081182 0.03184993]\n",
      " [0.93733824 0.03081182 0.03184993]\n",
      " [0.93733824 0.03081182 0.03184993]\n",
      " [0.02745373 0.94623276 0.0263135 ]\n",
      " [0.16684283 0.1668335  0.66632366]\n",
      " [0.75072584 0.13517663 0.11409753]\n",
      " [0.93733824 0.03081182 0.03184993]\n",
      " [0.04185278 0.9151883  0.04295892]\n",
      " [0.04185278 0.9151883  0.04295892]\n",
      " [0.75072584 0.13517663 0.11409753]\n",
      " [0.02745373 0.94623276 0.0263135 ]\n",
      " [0.02745373 0.94623276 0.0263135 ]\n",
      " [0.93733824 0.03081182 0.03184993]\n",
      " [0.11520581 0.11125073 0.77354346]\n",
      " [0.04185278 0.9151883  0.04295892]\n",
      " [0.75072584 0.13517663 0.11409753]\n",
      " [0.75072584 0.13517663 0.11409753]\n",
      " [0.93733824 0.03081182 0.03184993]\n",
      " [0.11520581 0.11125073 0.77354346]\n",
      " [0.02745373 0.94623276 0.0263135 ]\n",
      " [0.16684283 0.1668335  0.66632366]\n",
      " [0.16684283 0.1668335  0.66632366]\n",
      " [0.11520581 0.11125073 0.77354346]\n",
      " [0.02745373 0.94623276 0.0263135 ]\n",
      " [0.02745373 0.94623276 0.0263135 ]\n",
      " [0.16684283 0.1668335  0.66632366]\n",
      " [0.75072584 0.13517663 0.11409753]\n",
      " [0.93733824 0.03081182 0.03184993]\n",
      " [0.16684283 0.1668335  0.66632366]\n",
      " [0.02745373 0.94623276 0.0263135 ]\n",
      " [0.11520581 0.11125073 0.77354346]\n",
      " [0.11520581 0.11125073 0.77354346]\n",
      " [0.02745373 0.94623276 0.0263135 ]\n",
      " [0.93733824 0.03081182 0.03184993]\n",
      " [0.04185278 0.9151883  0.04295892]\n",
      " [0.11520581 0.11125073 0.77354346]\n",
      " [0.02745373 0.94623276 0.0263135 ]\n",
      " [0.04185278 0.9151883  0.04295892]\n",
      " [0.04185278 0.9151883  0.04295892]\n",
      " [0.02745373 0.94623276 0.0263135 ]\n",
      " [0.11520581 0.11125073 0.77354346]\n",
      " [0.04185278 0.9151883  0.04295892]\n",
      " [0.02745373 0.94623276 0.0263135 ]\n",
      " [0.04185278 0.9151883  0.04295892]\n",
      " [0.02745373 0.94623276 0.0263135 ]\n",
      " [0.93733824 0.03081182 0.03184993]\n",
      " [0.93733824 0.03081182 0.03184993]\n",
      " [0.93733824 0.03081182 0.03184993]\n",
      " [0.93733824 0.03081182 0.03184993]\n",
      " [0.02745373 0.94623276 0.0263135 ]\n",
      " [0.93733824 0.03081182 0.03184993]\n",
      " [0.02745373 0.94623276 0.0263135 ]\n",
      " [0.93733824 0.03081182 0.03184993]\n",
      " [0.04185278 0.9151883  0.04295892]\n",
      " [0.11520581 0.11125073 0.77354346]\n",
      " [0.11520581 0.11125073 0.77354346]\n",
      " [0.93733824 0.03081182 0.03184993]\n",
      " [0.75072584 0.13517663 0.11409753]\n",
      " [0.04185278 0.9151883  0.04295892]\n",
      " [0.04185278 0.9151883  0.04295892]\n",
      " [0.04185278 0.9151883  0.04295892]\n",
      " [0.93733824 0.03081182 0.03184993]\n",
      " [0.02745373 0.94623276 0.0263135 ]\n",
      " [0.04185278 0.9151883  0.04295892]\n",
      " [0.93733824 0.03081182 0.03184993]\n",
      " [0.16684283 0.1668335  0.66632366]\n",
      " [0.93733824 0.03081182 0.03184993]\n",
      " [0.75072584 0.13517663 0.11409753]\n",
      " [0.16684283 0.1668335  0.66632366]\n",
      " [0.75072584 0.13517663 0.11409753]\n",
      " [0.02745373 0.94623276 0.0263135 ]\n",
      " [0.11520581 0.11125073 0.77354346]\n",
      " [0.02745373 0.94623276 0.0263135 ]\n",
      " [0.75072584 0.13517663 0.11409753]\n",
      " [0.75072584 0.13517663 0.11409753]\n",
      " [0.11520581 0.11125073 0.77354346]\n",
      " [0.93733824 0.03081182 0.03184993]\n",
      " [0.93733824 0.03081182 0.03184993]\n",
      " [0.04185278 0.9151883  0.04295892]\n",
      " [0.93733824 0.03081182 0.03184993]\n",
      " [0.93733824 0.03081182 0.03184993]\n",
      " [0.75072584 0.13517663 0.11409753]\n",
      " [0.93733824 0.03081182 0.03184993]\n",
      " [0.93733824 0.03081182 0.03184993]\n",
      " [0.04185278 0.9151883  0.04295892]\n",
      " [0.02745373 0.94623276 0.0263135 ]\n",
      " [0.04185278 0.9151883  0.04295892]\n",
      " [0.02745373 0.94623276 0.0263135 ]\n",
      " [0.16684283 0.1668335  0.66632366]\n",
      " [0.04185278 0.9151883  0.04295892]\n",
      " [0.93733824 0.03081182 0.03184993]\n",
      " [0.11520581 0.11125073 0.77354346]\n",
      " [0.93733824 0.03081182 0.03184993]\n",
      " [0.93733824 0.03081182 0.03184993]\n",
      " [0.16684283 0.1668335  0.66632366]\n",
      " [0.93733824 0.03081182 0.03184993]\n",
      " [0.93733824 0.03081182 0.03184993]\n",
      " [0.04185278 0.9151883  0.04295892]\n",
      " [0.93733824 0.03081182 0.03184993]\n",
      " [0.16684283 0.1668335  0.66632366]\n",
      " [0.93733824 0.03081182 0.03184993]\n",
      " [0.04185278 0.9151883  0.04295892]\n",
      " [0.75072584 0.13517663 0.11409753]\n",
      " [0.02745373 0.94623276 0.0263135 ]\n",
      " [0.16684283 0.1668335  0.66632366]\n",
      " [0.93733824 0.03081182 0.03184993]\n",
      " [0.04185278 0.9151883  0.04295892]\n",
      " [0.11520581 0.11125073 0.77354346]\n",
      " [0.93733824 0.03081182 0.03184993]\n",
      " [0.75072584 0.13517663 0.11409753]\n",
      " [0.93733824 0.03081182 0.03184993]\n",
      " [0.75072584 0.13517663 0.11409753]\n",
      " [0.75072584 0.13517663 0.11409753]\n",
      " [0.11520581 0.11125073 0.77354346]\n",
      " [0.16684283 0.1668335  0.66632366]\n",
      " [0.04185278 0.9151883  0.04295892]\n",
      " [0.04185278 0.9151883  0.04295892]\n",
      " [0.02745373 0.94623276 0.0263135 ]\n",
      " [0.11520581 0.11125073 0.77354346]\n",
      " [0.93733824 0.03081182 0.03184993]\n",
      " [0.04185278 0.9151883  0.04295892]\n",
      " [0.75072584 0.13517663 0.11409753]\n",
      " [0.93733824 0.03081182 0.03184993]\n",
      " [0.75072584 0.13517663 0.11409753]\n",
      " [0.02745373 0.94623276 0.0263135 ]\n",
      " [0.04185278 0.9151883  0.04295892]\n",
      " [0.11520581 0.11125073 0.77354346]\n",
      " [0.16684283 0.1668335  0.66632366]\n",
      " [0.02745373 0.94623276 0.0263135 ]\n",
      " [0.75072584 0.13517663 0.11409753]\n",
      " [0.02745373 0.94623276 0.0263135 ]\n",
      " [0.02745373 0.94623276 0.0263135 ]\n",
      " [0.02745373 0.94623276 0.0263135 ]\n",
      " [0.93733824 0.03081182 0.03184993]\n",
      " [0.93733824 0.03081182 0.03184993]\n",
      " [0.93733824 0.03081182 0.03184993]\n",
      " [0.11520581 0.11125073 0.77354346]\n",
      " [0.93733824 0.03081182 0.03184993]\n",
      " [0.16684283 0.1668335  0.66632366]\n",
      " [0.02745373 0.94623276 0.0263135 ]\n",
      " [0.02745373 0.94623276 0.0263135 ]\n",
      " [0.75072584 0.13517663 0.11409753]\n",
      " [0.11520581 0.11125073 0.77354346]\n",
      " [0.93733824 0.03081182 0.03184993]\n",
      " [0.02745373 0.94623276 0.0263135 ]\n",
      " [0.04185278 0.9151883  0.04295892]\n",
      " [0.93733824 0.03081182 0.03184993]\n",
      " [0.75072584 0.13517663 0.11409753]\n",
      " [0.11520581 0.11125073 0.77354346]\n",
      " [0.04185278 0.9151883  0.04295892]\n",
      " [0.02745373 0.94623276 0.0263135 ]\n",
      " [0.93733824 0.03081182 0.03184993]\n",
      " [0.93733824 0.03081182 0.03184993]\n",
      " [0.04185278 0.9151883  0.04295892]\n",
      " [0.02745373 0.94623276 0.0263135 ]\n",
      " [0.75072584 0.13517663 0.11409753]\n",
      " [0.75072584 0.13517663 0.11409753]\n",
      " [0.02745373 0.94623276 0.0263135 ]\n",
      " [0.75072584 0.13517663 0.11409753]\n",
      " [0.02745373 0.94623276 0.0263135 ]\n",
      " [0.93733824 0.03081182 0.03184993]\n",
      " [0.04185278 0.9151883  0.04295892]\n",
      " [0.93733824 0.03081182 0.03184993]\n",
      " [0.11520581 0.11125073 0.77354346]\n",
      " [0.11520581 0.11125073 0.77354346]\n",
      " [0.04185278 0.9151883  0.04295892]\n",
      " [0.04185278 0.9151883  0.04295892]\n",
      " [0.93733824 0.03081182 0.03184993]\n",
      " [0.93733824 0.03081182 0.03184993]\n",
      " [0.93733824 0.03081182 0.03184993]\n",
      " [0.93733824 0.03081182 0.03184993]\n",
      " [0.93733824 0.03081182 0.03184993]\n",
      " [0.75072584 0.13517663 0.11409753]\n",
      " [0.75072584 0.13517663 0.11409753]\n",
      " [0.04185278 0.9151883  0.04295892]\n",
      " [0.93733824 0.03081182 0.03184993]]\n",
      "[[ 0.7232881  19.07776004  9.93625991  0.77211704  0.75901163  0.72316828\n",
      "   0.8185961   0.9038438  19.01649852 19.11378709  0.83837492  0.84053785\n",
      "  19.1706871  19.09503928  0.74078025  0.80315927  0.69779697 19.10819168\n",
      "  19.08957762  0.98735788  0.74152291  0.69174569 19.11824711 28.66672401\n",
      "   0.72787239 19.07931853  0.77672693]\n",
      " [12.65909045  0.97230913 12.95467214 11.04767558 10.82884446 12.50876456\n",
      "  12.59341063  0.90105328  0.66736539 12.51712558 12.53122117 10.85085837\n",
      "   0.78864995  0.86489268 10.95293383 10.82010438 10.82212529  0.83027358\n",
      "   0.90570689 12.51495865 12.4536259  12.55588734  0.8263077  12.70983641\n",
      "  22.64315243  0.76592155 12.66902076]\n",
      " [ 0.78586785  0.99327542  0.84769758  0.77737852  0.88249794  0.7383824\n",
      "   0.7150874  13.00425443  0.7149253   0.80660133  0.87866249  0.92713764\n",
      "   0.85651979  0.80533402  0.78907678  0.87053575  0.75635296  0.82485128\n",
      "   8.10716015  0.81432172  0.82645783  0.77043742  0.74299954  1.01410995\n",
      "   0.89591307  0.92904687  0.85362529]]\n"
     ]
    }
   ],
   "source": [
    "X_NJTrain, X_NJHold = train_test_split(df2, test_size=0.3, random_state=111)\n",
    "print(X_NJTrain.shape)\n",
    "print(X_NJHold.shape)\n",
    "\n",
    "vectorizer_tf = TfidfVectorizer(tokenizer=tokenize, max_df=0.65, min_df=30 , max_features=10000, use_idf=False, norm=None) ##if words occur in less than 50 docs remove that word\n",
    "tf_NJVectors = vectorizer_tf.fit_transform(X_NJTrain.text)    \n",
    "###idf is false then it wont take idf therefore it will run on count vectorization\n",
    "\n",
    "print(tf_NJVectors.A)\n",
    "\n",
    "lda = decomposition.LatentDirichletAllocation(n_components=3, max_iter=3, learning_method='online', learning_offset=50, n_jobs=-1, random_state=111)\n",
    "##similar like pca and reduced dimensions to 6\n",
    "WN1 = lda.fit_transform(tf_NJVectors)\n",
    "HN1 = lda.components_\n",
    "\n",
    "print(WN1)\n",
    "print(HN1)\n",
    "\n",
    "vocab = np.array(vectorizer_tf.get_feature_names())\n",
    "\n",
    "top_NJWords = lambda t: [vocab[i] for i in np.argsort(t)[:-num_words-1:-1]]\n",
    "topic_NJWords = ([top_NJWords(t) for t in HN1])\n",
    "NJ_topics = [' '.join(t) for t in topic_NJWords]"
   ]
  },
  {
   "cell_type": "code",
   "execution_count": 359,
   "id": "61ccef0c",
   "metadata": {},
   "outputs": [
    {
     "data": {
      "text/plain": [
       "['that inevitable surrender give milder just omicron will believe fighti… cases promised enough indicator going',\n",
       " 'what cases that would always covid straight going give promised conti… said… cases/capita keep indicator',\n",
       " 'enough omicron that believe will indicator what come going leading inevitable would cases said… milder']"
      ]
     },
     "execution_count": 359,
     "metadata": {},
     "output_type": "execute_result"
    }
   ],
   "source": [
    "NJ_topics"
   ]
  },
  {
   "cell_type": "code",
   "execution_count": 360,
   "id": "34e376ac",
   "metadata": {},
   "outputs": [],
   "source": [
    "colnames = [\"Topic\" + str(i) for i in range(lda.n_components)]\n",
    "docnames = [\"Doc\" + str(i) for i in range(len(X_NJTrain.text))]\n",
    "df_doc_NJTopic = pd.DataFrame(np.round(WN1, 2), columns=colnames, index=docnames)\n",
    "significant_NJ_topic = np.argmax(df_doc_NJTopic.values, axis=1)\n",
    "df_doc_NJTopic['dominant_topic'] = significant_NJ_topic"
   ]
  },
  {
   "cell_type": "code",
   "execution_count": 361,
   "id": "3486ecbc",
   "metadata": {},
   "outputs": [
    {
     "name": "stdout",
     "output_type": "stream",
     "text": [
      "        Topic0  Topic1  Topic2  dominant_topic\n",
      "Doc0      0.75    0.14    0.11               0\n",
      "Doc1      0.75    0.14    0.11               0\n",
      "Doc2      0.17    0.17    0.67               2\n",
      "Doc3      0.94    0.03    0.03               0\n",
      "Doc4      0.94    0.03    0.03               0\n",
      "...        ...     ...     ...             ...\n",
      "Doc192    0.94    0.03    0.03               0\n",
      "Doc193    0.75    0.14    0.11               0\n",
      "Doc194    0.75    0.14    0.11               0\n",
      "Doc195    0.04    0.92    0.04               1\n",
      "Doc196    0.94    0.03    0.03               0\n",
      "\n",
      "[197 rows x 4 columns]\n"
     ]
    }
   ],
   "source": [
    "print(df_doc_NJTopic)"
   ]
  },
  {
   "cell_type": "code",
   "execution_count": 362,
   "id": "23eb4f56",
   "metadata": {},
   "outputs": [
    {
     "data": {
      "text/plain": [
       "0    87\n",
       "1    69\n",
       "2    41\n",
       "Name: dominant_topic, dtype: int64"
      ]
     },
     "execution_count": 362,
     "metadata": {},
     "output_type": "execute_result"
    }
   ],
   "source": [
    "df_doc_NJTopic['dominant_topic'].value_counts()"
   ]
  },
  {
   "cell_type": "code",
   "execution_count": null,
   "id": "73612a56",
   "metadata": {},
   "outputs": [],
   "source": []
  }
 ],
 "metadata": {
  "kernelspec": {
   "display_name": "Python 3 (ipykernel)",
   "language": "python",
   "name": "python3"
  },
  "language_info": {
   "codemirror_mode": {
    "name": "ipython",
    "version": 3
   },
   "file_extension": ".py",
   "mimetype": "text/x-python",
   "name": "python",
   "nbconvert_exporter": "python",
   "pygments_lexer": "ipython3",
   "version": "3.9.7"
  }
 },
 "nbformat": 4,
 "nbformat_minor": 5
}
